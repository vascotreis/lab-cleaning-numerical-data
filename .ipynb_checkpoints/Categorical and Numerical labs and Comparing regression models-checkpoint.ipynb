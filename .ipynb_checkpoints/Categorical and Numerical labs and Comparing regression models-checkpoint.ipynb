{
 "cells": [
  {
   "cell_type": "markdown",
   "id": "c7fdf7fb",
   "metadata": {},
   "source": [
    "# Lab | Cleaning numerical data\n",
    "## 1. Import the necessary libraries."
   ]
  },
  {
   "cell_type": "code",
   "execution_count": 1,
   "id": "53c0d14e",
   "metadata": {},
   "outputs": [],
   "source": [
    "\n",
    "import pandas as pd\n",
    "import numpy as np\n",
    "import seaborn as sns\n",
    "import matplotlib.pyplot as plt\n",
    "%matplotlib inline\n"
   ]
  },
  {
   "cell_type": "markdown",
   "id": "c4a6515b",
   "metadata": {},
   "source": [
    "## 2. Load the we_fn_use_c_marketing_customer_value_analysis.csv into the variable customer_df"
   ]
  },
  {
   "cell_type": "code",
   "execution_count": 2,
   "id": "989eef28",
   "metadata": {},
   "outputs": [],
   "source": [
    "\n",
    "\n",
    "customer_df = pd.read_csv('files_for_lab/we_fn_use_c_marketing_customer_value_analysis.csv')"
   ]
  },
  {
   "cell_type": "markdown",
   "id": "588f7308",
   "metadata": {},
   "source": [
    "### 3. First look at its main features (head, shape, info)."
   ]
  },
  {
   "cell_type": "code",
   "execution_count": 3,
   "id": "05e624ac",
   "metadata": {},
   "outputs": [
    {
     "data": {
      "text/html": [
       "<div>\n",
       "<style scoped>\n",
       "    .dataframe tbody tr th:only-of-type {\n",
       "        vertical-align: middle;\n",
       "    }\n",
       "\n",
       "    .dataframe tbody tr th {\n",
       "        vertical-align: top;\n",
       "    }\n",
       "\n",
       "    .dataframe thead th {\n",
       "        text-align: right;\n",
       "    }\n",
       "</style>\n",
       "<table border=\"1\" class=\"dataframe\">\n",
       "  <thead>\n",
       "    <tr style=\"text-align: right;\">\n",
       "      <th></th>\n",
       "      <th>customer</th>\n",
       "      <th>state</th>\n",
       "      <th>customer_lifetime_value</th>\n",
       "      <th>response</th>\n",
       "      <th>coverage</th>\n",
       "      <th>education</th>\n",
       "      <th>effective_to_date</th>\n",
       "      <th>employment_status</th>\n",
       "      <th>gender</th>\n",
       "      <th>income</th>\n",
       "      <th>...</th>\n",
       "      <th>months_since_policy_inception</th>\n",
       "      <th>number_of_open_complaints</th>\n",
       "      <th>number_of_policies</th>\n",
       "      <th>policy_type</th>\n",
       "      <th>policy</th>\n",
       "      <th>renew_offer_type</th>\n",
       "      <th>sales_channel</th>\n",
       "      <th>total_claim_amount</th>\n",
       "      <th>vehicle_class</th>\n",
       "      <th>vehicle_size</th>\n",
       "    </tr>\n",
       "  </thead>\n",
       "  <tbody>\n",
       "    <tr>\n",
       "      <th>0</th>\n",
       "      <td>BU79786</td>\n",
       "      <td>Washington</td>\n",
       "      <td>2763.519279</td>\n",
       "      <td>No</td>\n",
       "      <td>Basic</td>\n",
       "      <td>Bachelor</td>\n",
       "      <td>2011-02-24</td>\n",
       "      <td>Employed</td>\n",
       "      <td>F</td>\n",
       "      <td>56274.0</td>\n",
       "      <td>...</td>\n",
       "      <td>5</td>\n",
       "      <td>0</td>\n",
       "      <td>1</td>\n",
       "      <td>Corporate Auto</td>\n",
       "      <td>Corporate L3</td>\n",
       "      <td>Offer1</td>\n",
       "      <td>Agent</td>\n",
       "      <td>384.811147</td>\n",
       "      <td>Two-Door Car</td>\n",
       "      <td>Medsize</td>\n",
       "    </tr>\n",
       "    <tr>\n",
       "      <th>1</th>\n",
       "      <td>QZ44356</td>\n",
       "      <td>Arizona</td>\n",
       "      <td>6979.535903</td>\n",
       "      <td>No</td>\n",
       "      <td>Extended</td>\n",
       "      <td>Bachelor</td>\n",
       "      <td>2011-01-31</td>\n",
       "      <td>Unemployed</td>\n",
       "      <td>F</td>\n",
       "      <td>0.0</td>\n",
       "      <td>...</td>\n",
       "      <td>42</td>\n",
       "      <td>0</td>\n",
       "      <td>8</td>\n",
       "      <td>Personal Auto</td>\n",
       "      <td>Personal L3</td>\n",
       "      <td>Offer3</td>\n",
       "      <td>Agent</td>\n",
       "      <td>1131.464935</td>\n",
       "      <td>Four-Door Car</td>\n",
       "      <td>Medsize</td>\n",
       "    </tr>\n",
       "    <tr>\n",
       "      <th>2</th>\n",
       "      <td>AI49188</td>\n",
       "      <td>Nevada</td>\n",
       "      <td>12887.431650</td>\n",
       "      <td>No</td>\n",
       "      <td>Premium</td>\n",
       "      <td>Bachelor</td>\n",
       "      <td>2011-02-19</td>\n",
       "      <td>Employed</td>\n",
       "      <td>F</td>\n",
       "      <td>48767.0</td>\n",
       "      <td>...</td>\n",
       "      <td>38</td>\n",
       "      <td>0</td>\n",
       "      <td>2</td>\n",
       "      <td>Personal Auto</td>\n",
       "      <td>Personal L3</td>\n",
       "      <td>Offer1</td>\n",
       "      <td>Agent</td>\n",
       "      <td>566.472247</td>\n",
       "      <td>Two-Door Car</td>\n",
       "      <td>Medsize</td>\n",
       "    </tr>\n",
       "    <tr>\n",
       "      <th>3</th>\n",
       "      <td>WW63253</td>\n",
       "      <td>California</td>\n",
       "      <td>7645.861827</td>\n",
       "      <td>No</td>\n",
       "      <td>Basic</td>\n",
       "      <td>Bachelor</td>\n",
       "      <td>2011-01-20</td>\n",
       "      <td>Unemployed</td>\n",
       "      <td>M</td>\n",
       "      <td>0.0</td>\n",
       "      <td>...</td>\n",
       "      <td>65</td>\n",
       "      <td>0</td>\n",
       "      <td>7</td>\n",
       "      <td>Corporate Auto</td>\n",
       "      <td>Corporate L2</td>\n",
       "      <td>Offer1</td>\n",
       "      <td>Call Center</td>\n",
       "      <td>529.881344</td>\n",
       "      <td>SUV</td>\n",
       "      <td>Medsize</td>\n",
       "    </tr>\n",
       "    <tr>\n",
       "      <th>4</th>\n",
       "      <td>HB64268</td>\n",
       "      <td>Washington</td>\n",
       "      <td>2813.692575</td>\n",
       "      <td>No</td>\n",
       "      <td>Basic</td>\n",
       "      <td>Bachelor</td>\n",
       "      <td>2011-02-03</td>\n",
       "      <td>Employed</td>\n",
       "      <td>M</td>\n",
       "      <td>43836.0</td>\n",
       "      <td>...</td>\n",
       "      <td>44</td>\n",
       "      <td>0</td>\n",
       "      <td>1</td>\n",
       "      <td>Personal Auto</td>\n",
       "      <td>Personal L1</td>\n",
       "      <td>Offer1</td>\n",
       "      <td>Agent</td>\n",
       "      <td>138.130879</td>\n",
       "      <td>Four-Door Car</td>\n",
       "      <td>Medsize</td>\n",
       "    </tr>\n",
       "  </tbody>\n",
       "</table>\n",
       "<p>5 rows × 24 columns</p>\n",
       "</div>"
      ],
      "text/plain": [
       "  customer       state  customer_lifetime_value response  coverage education  \\\n",
       "0  BU79786  Washington              2763.519279       No     Basic  Bachelor   \n",
       "1  QZ44356     Arizona              6979.535903       No  Extended  Bachelor   \n",
       "2  AI49188      Nevada             12887.431650       No   Premium  Bachelor   \n",
       "3  WW63253  California              7645.861827       No     Basic  Bachelor   \n",
       "4  HB64268  Washington              2813.692575       No     Basic  Bachelor   \n",
       "\n",
       "  effective_to_date employment_status gender   income  ...  \\\n",
       "0        2011-02-24          Employed      F  56274.0  ...   \n",
       "1        2011-01-31        Unemployed      F      0.0  ...   \n",
       "2        2011-02-19          Employed      F  48767.0  ...   \n",
       "3        2011-01-20        Unemployed      M      0.0  ...   \n",
       "4        2011-02-03          Employed      M  43836.0  ...   \n",
       "\n",
       "  months_since_policy_inception number_of_open_complaints  number_of_policies  \\\n",
       "0                             5                         0                   1   \n",
       "1                            42                         0                   8   \n",
       "2                            38                         0                   2   \n",
       "3                            65                         0                   7   \n",
       "4                            44                         0                   1   \n",
       "\n",
       "      policy_type        policy  renew_offer_type  sales_channel  \\\n",
       "0  Corporate Auto  Corporate L3            Offer1          Agent   \n",
       "1   Personal Auto   Personal L3            Offer3          Agent   \n",
       "2   Personal Auto   Personal L3            Offer1          Agent   \n",
       "3  Corporate Auto  Corporate L2            Offer1    Call Center   \n",
       "4   Personal Auto   Personal L1            Offer1          Agent   \n",
       "\n",
       "  total_claim_amount  vehicle_class vehicle_size  \n",
       "0         384.811147   Two-Door Car      Medsize  \n",
       "1        1131.464935  Four-Door Car      Medsize  \n",
       "2         566.472247   Two-Door Car      Medsize  \n",
       "3         529.881344            SUV      Medsize  \n",
       "4         138.130879  Four-Door Car      Medsize  \n",
       "\n",
       "[5 rows x 24 columns]"
      ]
     },
     "execution_count": 3,
     "metadata": {},
     "output_type": "execute_result"
    }
   ],
   "source": [
    "\n",
    "customer_df.head()"
   ]
  },
  {
   "cell_type": "code",
   "execution_count": 4,
   "id": "fd9f9783",
   "metadata": {},
   "outputs": [
    {
     "data": {
      "text/plain": [
       "(9134, 24)"
      ]
     },
     "execution_count": 4,
     "metadata": {},
     "output_type": "execute_result"
    }
   ],
   "source": [
    "\n",
    "customer_df.shape"
   ]
  },
  {
   "cell_type": "code",
   "execution_count": 5,
   "id": "3e72c82c",
   "metadata": {},
   "outputs": [
    {
     "name": "stdout",
     "output_type": "stream",
     "text": [
      "<class 'pandas.core.frame.DataFrame'>\n",
      "RangeIndex: 9134 entries, 0 to 9133\n",
      "Data columns (total 24 columns):\n",
      " #   Column                         Non-Null Count  Dtype  \n",
      "---  ------                         --------------  -----  \n",
      " 0   customer                       9134 non-null   object \n",
      " 1   state                          9134 non-null   object \n",
      " 2   customer_lifetime_value        9134 non-null   float64\n",
      " 3   response                       9134 non-null   object \n",
      " 4   coverage                       9134 non-null   object \n",
      " 5   education                      9134 non-null   object \n",
      " 6   effective_to_date              9134 non-null   object \n",
      " 7   employment_status              9134 non-null   object \n",
      " 8   gender                         9134 non-null   object \n",
      " 9   income                         9134 non-null   float64\n",
      " 10  location_code                  9134 non-null   object \n",
      " 11  marital_status                 9134 non-null   object \n",
      " 12  monthly_premium_auto           9134 non-null   int64  \n",
      " 13  months_since_last_claim        9134 non-null   int64  \n",
      " 14  months_since_policy_inception  9134 non-null   int64  \n",
      " 15  number_of_open_complaints      9134 non-null   int64  \n",
      " 16  number_of_policies             9134 non-null   int64  \n",
      " 17  policy_type                    9134 non-null   object \n",
      " 18  policy                         9134 non-null   object \n",
      " 19  renew_offer_type               9134 non-null   object \n",
      " 20  sales_channel                  9134 non-null   object \n",
      " 21  total_claim_amount             9134 non-null   float64\n",
      " 22  vehicle_class                  9134 non-null   object \n",
      " 23  vehicle_size                   9134 non-null   object \n",
      "dtypes: float64(3), int64(5), object(16)\n",
      "memory usage: 1.7+ MB\n"
     ]
    }
   ],
   "source": [
    "\n",
    "customer_df.info()"
   ]
  },
  {
   "cell_type": "markdown",
   "id": "36e6bb5d",
   "metadata": {},
   "source": [
    "## 4. Rename the columns so they follow the PE8 (snake case) (lower_case_with_underscores)\n"
   ]
  },
  {
   "cell_type": "code",
   "execution_count": 6,
   "id": "31b0f7b7",
   "metadata": {},
   "outputs": [
    {
     "name": "stdout",
     "output_type": "stream",
     "text": [
      "Index(['customer', 'state', 'customer_lifetime_value', 'response', 'coverage',\n",
      "       'education', 'effective_to_date', 'employment_status', 'gender',\n",
      "       'income', 'location_code', 'marital_status', 'monthly_premium_auto',\n",
      "       'months_since_last_claim', 'months_since_policy_inception',\n",
      "       'number_of_open_complaints', 'number_of_policies', 'policy_type',\n",
      "       'policy', 'renew_offer_type', 'sales_channel', 'total_claim_amount',\n",
      "       'vehicle_class', 'vehicle_size'],\n",
      "      dtype='object')\n"
     ]
    }
   ],
   "source": [
    "\n",
    "n_cols = []\n",
    "for i in range(len(customer_df.columns)):\n",
    "    n_cols.append(customer_df.columns[i].lower().replace(' ', '_'))\n",
    "customer_df.columns = n_cols\n",
    "\n",
    "customer_df = customer_df.rename(columns = {'employmentstatus':'employment_status'})\n",
    "\n",
    "print(customer_df.columns)"
   ]
  },
  {
   "cell_type": "markdown",
   "id": "ccc98e1a",
   "metadata": {},
   "source": [
    "## 5. Change effective to date column to datetime format.\n"
   ]
  },
  {
   "cell_type": "code",
   "execution_count": 7,
   "id": "292213a5",
   "metadata": {},
   "outputs": [
    {
     "data": {
      "text/plain": [
       "pandas._libs.tslibs.timestamps.Timestamp"
      ]
     },
     "execution_count": 7,
     "metadata": {},
     "output_type": "execute_result"
    }
   ],
   "source": [
    "customer_df['effective_to_date'] = pd.to_datetime(customer_df['effective_to_date'], errors='coerce')\n",
    "   \n",
    "\n",
    "type(customer_df['effective_to_date'][0])"
   ]
  },
  {
   "cell_type": "markdown",
   "id": "885f93d7",
   "metadata": {},
   "source": [
    "### 6. Define a function that differentiates between continuous and discrete variables.\n",
    "Hint: The number of unique values might be useful. Store continuous data into a continuous_df variable and do the same for discrete_df\n",
    "\n",
    "We think that float data type more suitable for column income instead of integer. So, we converted it."
   ]
  },
  {
   "cell_type": "code",
   "execution_count": 8,
   "id": "6c4f2910",
   "metadata": {},
   "outputs": [
    {
     "data": {
      "text/plain": [
       "numpy.float64"
      ]
     },
     "execution_count": 8,
     "metadata": {},
     "output_type": "execute_result"
    }
   ],
   "source": [
    "\n",
    "customer_df['income'] = customer_df['income'].astype(float)\n",
    "type(customer_df['income'][0])"
   ]
  },
  {
   "cell_type": "code",
   "execution_count": 9,
   "id": "3ab3f126",
   "metadata": {},
   "outputs": [
    {
     "data": {
      "text/plain": [
       "numpy.float64"
      ]
     },
     "execution_count": 9,
     "metadata": {},
     "output_type": "execute_result"
    }
   ],
   "source": [
    "customer_df['monthly_premium_auto'] = customer_df['monthly_premium_auto'].astype(float)\n",
    "type(customer_df['monthly_premium_auto'][0])"
   ]
  },
  {
   "cell_type": "code",
   "execution_count": 10,
   "id": "045b410d",
   "metadata": {},
   "outputs": [],
   "source": [
    "\n",
    "def filtering(x):\n",
    "    discrete_df = customer_df.select_dtypes('int64')\n",
    "    continuous_df = customer_df.select_dtypes('float64')\n",
    "    return discrete_df, continuous_df\n",
    "\n",
    "discrete_df, continuous_df = filtering(customer_df)\n"
   ]
  },
  {
   "cell_type": "code",
   "execution_count": 11,
   "id": "5fec4fe7",
   "metadata": {},
   "outputs": [
    {
     "name": "stdout",
     "output_type": "stream",
     "text": [
      "<class 'pandas.core.frame.DataFrame'>\n",
      "RangeIndex: 9134 entries, 0 to 9133\n",
      "Data columns (total 4 columns):\n",
      " #   Column                         Non-Null Count  Dtype\n",
      "---  ------                         --------------  -----\n",
      " 0   months_since_last_claim        9134 non-null   int64\n",
      " 1   months_since_policy_inception  9134 non-null   int64\n",
      " 2   number_of_open_complaints      9134 non-null   int64\n",
      " 3   number_of_policies             9134 non-null   int64\n",
      "dtypes: int64(4)\n",
      "memory usage: 285.6 KB\n"
     ]
    }
   ],
   "source": [
    "\n",
    "discrete_df.info()\n"
   ]
  },
  {
   "cell_type": "code",
   "execution_count": 12,
   "id": "7b6ae516",
   "metadata": {},
   "outputs": [
    {
     "name": "stdout",
     "output_type": "stream",
     "text": [
      "<class 'pandas.core.frame.DataFrame'>\n",
      "RangeIndex: 9134 entries, 0 to 9133\n",
      "Data columns (total 4 columns):\n",
      " #   Column                   Non-Null Count  Dtype  \n",
      "---  ------                   --------------  -----  \n",
      " 0   customer_lifetime_value  9134 non-null   float64\n",
      " 1   income                   9134 non-null   float64\n",
      " 2   monthly_premium_auto     9134 non-null   float64\n",
      " 3   total_claim_amount       9134 non-null   float64\n",
      "dtypes: float64(4)\n",
      "memory usage: 285.6 KB\n"
     ]
    }
   ],
   "source": [
    "continuous_df.info()"
   ]
  },
  {
   "cell_type": "markdown",
   "id": "6f881d6d",
   "metadata": {},
   "source": [
    "## 7. Plot a correlation matrix, comment what you see."
   ]
  },
  {
   "cell_type": "code",
   "execution_count": 13,
   "id": "3d4ca55e",
   "metadata": {},
   "outputs": [
    {
     "data": {
      "image/png": "[encoded data removed]",
      "text/plain": [
       "<Figure size 1200x900 with 2 Axes>"
      ]
     },
     "metadata": {},
     "output_type": "display_data"
    }
   ],
   "source": [
    "plt.figure(figsize=(12, 9))\n",
    "correlations_matrix = customer_df.corr()\n",
    "sns.heatmap(correlations_matrix, annot=True)\n",
    "plt.show()"
   ]
  },
  {
   "cell_type": "markdown",
   "id": "c1c8ab2f",
   "metadata": {},
   "source": [
    "### We don't see multicollinearity. We don't need to remove columns."
   ]
  },
  {
   "cell_type": "markdown",
   "id": "d17e18a4",
   "metadata": {},
   "source": [
    "### 8. Create a function to plot every discrete variable. Do the same with the continuous variables (Be Careful, you may need to change the plot type to one better suited for continuous data!)\n",
    "Discrete variable"
   ]
  },
  {
   "cell_type": "code",
   "execution_count": 14,
   "id": "76d44aaf",
   "metadata": {},
   "outputs": [
    {
     "data": {
      "image/png": "[encoded data removed]",
      "text/plain": [
       "<Figure size 500x500 with 1 Axes>"
      ]
     },
     "metadata": {},
     "output_type": "display_data"
    },
    {
     "data": {
      "image/png": "[encoded data removed]",
      "text/plain": [
       "<Figure size 500x500 with 1 Axes>"
      ]
     },
     "metadata": {},
     "output_type": "display_data"
    },
    {
     "data": {
      "image/png": "[encoded data removed]",
      "text/plain": [
       "<Figure size 500x500 with 1 Axes>"
      ]
     },
     "metadata": {},
     "output_type": "display_data"
    },
    {
     "data": {
      "image/png": "[encoded data removed]",
      "text/plain": [
       "<Figure size 500x500 with 1 Axes>"
      ]
     },
     "metadata": {},
     "output_type": "display_data"
    }
   ],
   "source": [
    "for i in discrete_df.columns:\n",
    "    sns.displot(x = i, data = discrete_df, bins=30)\n",
    "    plt.show()"
   ]
  },
  {
   "cell_type": "markdown",
   "id": "e99cc029",
   "metadata": {},
   "source": [
    "### Continuous variables"
   ]
  },
  {
   "cell_type": "code",
   "execution_count": 15,
   "id": "6a7c7087",
   "metadata": {},
   "outputs": [
    {
     "data": {
      "image/png": "[encoded data removed]",
      "text/plain": [
       "<Figure size 500x500 with 1 Axes>"
      ]
     },
     "metadata": {},
     "output_type": "display_data"
    },
    {
     "data": {
      "image/png": "[encoded data removed]",
      "text/plain": [
       "<Figure size 500x500 with 1 Axes>"
      ]
     },
     "metadata": {},
     "output_type": "display_data"
    },
    {
     "data": {
      "image/png": "[encoded data removed]",
      "text/plain": [
       "<Figure size 500x500 with 1 Axes>"
      ]
     },
     "metadata": {},
     "output_type": "display_data"
    },
    {
     "data": {
      "image/png": "[encoded data removed]",
      "text/plain": [
       "<Figure size 500x500 with 1 Axes>"
      ]
     },
     "metadata": {},
     "output_type": "display_data"
    }
   ],
   "source": [
    "for i in continuous_df.columns:\n",
    "    sns.displot(x = i, data = continuous_df, bins=30)\n",
    "    plt.show()"
   ]
  },
  {
   "cell_type": "code",
   "execution_count": 16,
   "id": "caa114f8",
   "metadata": {
    "scrolled": true
   },
   "outputs": [
    {
     "data": {
      "image/png": "[encoded data removed]",
      "text/plain": [
       "<Figure size 640x480 with 1 Axes>"
      ]
     },
     "metadata": {},
     "output_type": "display_data"
    },
    {
     "data": {
      "image/png": "[encoded data removed]",
      "text/plain": [
       "<Figure size 640x480 with 1 Axes>"
      ]
     },
     "metadata": {},
     "output_type": "display_data"
    },
    {
     "data": {
      "image/png": "[encoded data removed]",
      "text/plain": [
       "<Figure size 640x480 with 1 Axes>"
      ]
     },
     "metadata": {},
     "output_type": "display_data"
    },
    {
     "data": {
      "image/png": "[encoded data removed]",
      "text/plain": [
       "<Figure size 640x480 with 1 Axes>"
      ]
     },
     "metadata": {},
     "output_type": "display_data"
    }
   ],
   "source": [
    "\n",
    "for i in continuous_df.columns:\n",
    "    sns.boxplot(x = i, data = continuous_df)\n",
    "    plt.show()\n"
   ]
  },
  {
   "cell_type": "code",
   "execution_count": null,
   "id": "79fbc65d",
   "metadata": {},
   "outputs": [],
   "source": []
  },
  {
   "cell_type": "markdown",
   "id": "e1bb23ed",
   "metadata": {},
   "source": [
    "### 9 .Comment what you can see in the plots.\n",
    "We have outliers in continuous columns customer_lifetime_value, monthly_premium_auto and total_claim_amount."
   ]
  },
  {
   "cell_type": "markdown",
   "id": "6e4ac625",
   "metadata": {},
   "source": [
    "### 10. Look for outliers in the continuous variables. (HINT: There’s a good plot to do that!)\n",
    "Good type of plot for this it's boxplot"
   ]
  },
  {
   "cell_type": "markdown",
   "id": "8ea4fd5d",
   "metadata": {},
   "source": [
    "### 11 . Did you find outliers? Comment what you will do with them.\n",
    "Yes, we have outliers. And depends on our goal and data in columns we are goung to use different methods to remove it. Right now I dicaded do nothing with outliers."
   ]
  },
  {
   "cell_type": "markdown",
   "id": "beca97d0",
   "metadata": {},
   "source": [
    "### 12. Check all columns for NaN values. Decide what (if anything) you will need to do with them."
   ]
  },
  {
   "cell_type": "code",
   "execution_count": 17,
   "id": "3b2c7980",
   "metadata": {},
   "outputs": [
    {
     "data": {
      "text/plain": [
       "customer                         0\n",
       "state                            0\n",
       "customer_lifetime_value          0\n",
       "response                         0\n",
       "coverage                         0\n",
       "education                        0\n",
       "effective_to_date                0\n",
       "employment_status                0\n",
       "gender                           0\n",
       "income                           0\n",
       "location_code                    0\n",
       "marital_status                   0\n",
       "monthly_premium_auto             0\n",
       "months_since_last_claim          0\n",
       "months_since_policy_inception    0\n",
       "number_of_open_complaints        0\n",
       "number_of_policies               0\n",
       "policy_type                      0\n",
       "policy                           0\n",
       "renew_offer_type                 0\n",
       "sales_channel                    0\n",
       "total_claim_amount               0\n",
       "vehicle_class                    0\n",
       "vehicle_size                     0\n",
       "dtype: int64"
      ]
     },
     "execution_count": 17,
     "metadata": {},
     "output_type": "execute_result"
    }
   ],
   "source": [
    "\n",
    "customer_df.isna().sum()\n"
   ]
  },
  {
   "cell_type": "code",
   "execution_count": 18,
   "id": "5f60fcf8",
   "metadata": {},
   "outputs": [],
   "source": [
    "customer_df.to_csv('files_for_lab/1step_we_fn_use_c_marketing_customer_value_analysis.csv', index=False)"
   ]
  },
  {
   "cell_type": "markdown",
   "id": "93d2e7bc",
   "metadata": {},
   "source": [
    "\n",
    "# Lab | Cleaning categorical data"
   ]
  },
  {
   "cell_type": "code",
   "execution_count": 19,
   "id": "c29ec616",
   "metadata": {},
   "outputs": [
    {
     "data": {
      "text/html": [
       "<div>\n",
       "<style scoped>\n",
       "    .dataframe tbody tr th:only-of-type {\n",
       "        vertical-align: middle;\n",
       "    }\n",
       "\n",
       "    .dataframe tbody tr th {\n",
       "        vertical-align: top;\n",
       "    }\n",
       "\n",
       "    .dataframe thead th {\n",
       "        text-align: right;\n",
       "    }\n",
       "</style>\n",
       "<table border=\"1\" class=\"dataframe\">\n",
       "  <thead>\n",
       "    <tr style=\"text-align: right;\">\n",
       "      <th></th>\n",
       "      <th>customer</th>\n",
       "      <th>state</th>\n",
       "      <th>customer_lifetime_value</th>\n",
       "      <th>response</th>\n",
       "      <th>coverage</th>\n",
       "      <th>education</th>\n",
       "      <th>effective_to_date</th>\n",
       "      <th>employment_status</th>\n",
       "      <th>gender</th>\n",
       "      <th>income</th>\n",
       "      <th>...</th>\n",
       "      <th>months_since_policy_inception</th>\n",
       "      <th>number_of_open_complaints</th>\n",
       "      <th>number_of_policies</th>\n",
       "      <th>policy_type</th>\n",
       "      <th>policy</th>\n",
       "      <th>renew_offer_type</th>\n",
       "      <th>sales_channel</th>\n",
       "      <th>total_claim_amount</th>\n",
       "      <th>vehicle_class</th>\n",
       "      <th>vehicle_size</th>\n",
       "    </tr>\n",
       "  </thead>\n",
       "  <tbody>\n",
       "    <tr>\n",
       "      <th>0</th>\n",
       "      <td>BU79786</td>\n",
       "      <td>Washington</td>\n",
       "      <td>2763.519279</td>\n",
       "      <td>No</td>\n",
       "      <td>Basic</td>\n",
       "      <td>Bachelor</td>\n",
       "      <td>2011-02-24</td>\n",
       "      <td>Employed</td>\n",
       "      <td>F</td>\n",
       "      <td>56274.0</td>\n",
       "      <td>...</td>\n",
       "      <td>5</td>\n",
       "      <td>0</td>\n",
       "      <td>1</td>\n",
       "      <td>Corporate Auto</td>\n",
       "      <td>Corporate L3</td>\n",
       "      <td>Offer1</td>\n",
       "      <td>Agent</td>\n",
       "      <td>384.811147</td>\n",
       "      <td>Two-Door Car</td>\n",
       "      <td>Medsize</td>\n",
       "    </tr>\n",
       "    <tr>\n",
       "      <th>1</th>\n",
       "      <td>QZ44356</td>\n",
       "      <td>Arizona</td>\n",
       "      <td>6979.535903</td>\n",
       "      <td>No</td>\n",
       "      <td>Extended</td>\n",
       "      <td>Bachelor</td>\n",
       "      <td>2011-01-31</td>\n",
       "      <td>Unemployed</td>\n",
       "      <td>F</td>\n",
       "      <td>0.0</td>\n",
       "      <td>...</td>\n",
       "      <td>42</td>\n",
       "      <td>0</td>\n",
       "      <td>8</td>\n",
       "      <td>Personal Auto</td>\n",
       "      <td>Personal L3</td>\n",
       "      <td>Offer3</td>\n",
       "      <td>Agent</td>\n",
       "      <td>1131.464935</td>\n",
       "      <td>Four-Door Car</td>\n",
       "      <td>Medsize</td>\n",
       "    </tr>\n",
       "    <tr>\n",
       "      <th>2</th>\n",
       "      <td>AI49188</td>\n",
       "      <td>Nevada</td>\n",
       "      <td>12887.431650</td>\n",
       "      <td>No</td>\n",
       "      <td>Premium</td>\n",
       "      <td>Bachelor</td>\n",
       "      <td>2011-02-19</td>\n",
       "      <td>Employed</td>\n",
       "      <td>F</td>\n",
       "      <td>48767.0</td>\n",
       "      <td>...</td>\n",
       "      <td>38</td>\n",
       "      <td>0</td>\n",
       "      <td>2</td>\n",
       "      <td>Personal Auto</td>\n",
       "      <td>Personal L3</td>\n",
       "      <td>Offer1</td>\n",
       "      <td>Agent</td>\n",
       "      <td>566.472247</td>\n",
       "      <td>Two-Door Car</td>\n",
       "      <td>Medsize</td>\n",
       "    </tr>\n",
       "  </tbody>\n",
       "</table>\n",
       "<p>3 rows × 24 columns</p>\n",
       "</div>"
      ],
      "text/plain": [
       "  customer       state  customer_lifetime_value response  coverage education  \\\n",
       "0  BU79786  Washington              2763.519279       No     Basic  Bachelor   \n",
       "1  QZ44356     Arizona              6979.535903       No  Extended  Bachelor   \n",
       "2  AI49188      Nevada             12887.431650       No   Premium  Bachelor   \n",
       "\n",
       "  effective_to_date employment_status gender   income  ...  \\\n",
       "0        2011-02-24          Employed      F  56274.0  ...   \n",
       "1        2011-01-31        Unemployed      F      0.0  ...   \n",
       "2        2011-02-19          Employed      F  48767.0  ...   \n",
       "\n",
       "  months_since_policy_inception number_of_open_complaints  number_of_policies  \\\n",
       "0                             5                         0                   1   \n",
       "1                            42                         0                   8   \n",
       "2                            38                         0                   2   \n",
       "\n",
       "      policy_type        policy  renew_offer_type  sales_channel  \\\n",
       "0  Corporate Auto  Corporate L3            Offer1          Agent   \n",
       "1   Personal Auto   Personal L3            Offer3          Agent   \n",
       "2   Personal Auto   Personal L3            Offer1          Agent   \n",
       "\n",
       "  total_claim_amount  vehicle_class vehicle_size  \n",
       "0         384.811147   Two-Door Car      Medsize  \n",
       "1        1131.464935  Four-Door Car      Medsize  \n",
       "2         566.472247   Two-Door Car      Medsize  \n",
       "\n",
       "[3 rows x 24 columns]"
      ]
     },
     "execution_count": 19,
     "metadata": {},
     "output_type": "execute_result"
    }
   ],
   "source": [
    "import pandas as pd\n",
    "import numpy as np\n",
    "import seaborn as sns\n",
    "import matplotlib.pyplot as plt\n",
    "%matplotlib inline\n",
    "\n",
    "customer_df = pd.read_csv('files_for_lab/1step_we_fn_use_c_marketing_customer_value_analysis.csv')\n",
    "customer_df.head(3)"
   ]
  },
  {
   "cell_type": "markdown",
   "id": "b8d5b914",
   "metadata": {},
   "source": [
    "## 2. Find all of the categorical data. Save it in a categorical_df variable.\n"
   ]
  },
  {
   "cell_type": "code",
   "execution_count": 20,
   "id": "114b16a9",
   "metadata": {},
   "outputs": [],
   "source": [
    "customer_df['effective_to_date'] = pd.to_datetime(customer_df['effective_to_date'], errors='coerce')\n"
   ]
  },
  {
   "cell_type": "code",
   "execution_count": 21,
   "id": "5f65f385",
   "metadata": {},
   "outputs": [
    {
     "name": "stdout",
     "output_type": "stream",
     "text": [
      "<class 'pandas.core.frame.DataFrame'>\n",
      "RangeIndex: 9134 entries, 0 to 9133\n",
      "Data columns (total 15 columns):\n",
      " #   Column             Non-Null Count  Dtype \n",
      "---  ------             --------------  ----- \n",
      " 0   customer           9134 non-null   object\n",
      " 1   state              9134 non-null   object\n",
      " 2   response           9134 non-null   object\n",
      " 3   coverage           9134 non-null   object\n",
      " 4   education          9134 non-null   object\n",
      " 5   employment_status  9134 non-null   object\n",
      " 6   gender             9134 non-null   object\n",
      " 7   location_code      9134 non-null   object\n",
      " 8   marital_status     9134 non-null   object\n",
      " 9   policy_type        9134 non-null   object\n",
      " 10  policy             9134 non-null   object\n",
      " 11  renew_offer_type   9134 non-null   object\n",
      " 12  sales_channel      9134 non-null   object\n",
      " 13  vehicle_class      9134 non-null   object\n",
      " 14  vehicle_size       9134 non-null   object\n",
      "dtypes: object(15)\n",
      "memory usage: 1.0+ MB\n"
     ]
    }
   ],
   "source": [
    "\n",
    "def filtering_categorical(data):\n",
    "    categorical_df = data.select_dtypes('object')\n",
    "    return categorical_df\n",
    "\n",
    "categorical_df = filtering_categorical(customer_df)\n",
    "categorical_df.info()"
   ]
  },
  {
   "cell_type": "markdown",
   "id": "742da756",
   "metadata": {},
   "source": [
    "### 3. Check for NaN values."
   ]
  },
  {
   "cell_type": "code",
   "execution_count": 22,
   "id": "59dec136",
   "metadata": {},
   "outputs": [
    {
     "data": {
      "text/plain": [
       "customer                         0\n",
       "state                            0\n",
       "customer_lifetime_value          0\n",
       "response                         0\n",
       "coverage                         0\n",
       "education                        0\n",
       "effective_to_date                0\n",
       "employment_status                0\n",
       "gender                           0\n",
       "income                           0\n",
       "location_code                    0\n",
       "marital_status                   0\n",
       "monthly_premium_auto             0\n",
       "months_since_last_claim          0\n",
       "months_since_policy_inception    0\n",
       "number_of_open_complaints        0\n",
       "number_of_policies               0\n",
       "policy_type                      0\n",
       "policy                           0\n",
       "renew_offer_type                 0\n",
       "sales_channel                    0\n",
       "total_claim_amount               0\n",
       "vehicle_class                    0\n",
       "vehicle_size                     0\n",
       "dtype: int64"
      ]
     },
     "execution_count": 22,
     "metadata": {},
     "output_type": "execute_result"
    }
   ],
   "source": [
    "\n",
    "customer_df.isna().sum()"
   ]
  },
  {
   "cell_type": "markdown",
   "id": "e8c88d89",
   "metadata": {},
   "source": [
    "## 4. Check all unique values of columns."
   ]
  },
  {
   "cell_type": "code",
   "execution_count": 23,
   "id": "a24280a5",
   "metadata": {},
   "outputs": [
    {
     "name": "stdout",
     "output_type": "stream",
     "text": [
      "BU79786    1\n",
      "PU81096    1\n",
      "CO75086    1\n",
      "WW52683    1\n",
      "XO38850    1\n",
      "          ..\n",
      "HS14476    1\n",
      "YL91587    1\n",
      "CT18212    1\n",
      "EW35231    1\n",
      "Y167826    1\n",
      "Name: customer, Length: 9134, dtype: int64 \n",
      "\n",
      "California    3150\n",
      "Oregon        2601\n",
      "Arizona       1703\n",
      "Nevada         882\n",
      "Washington     798\n",
      "Name: state, dtype: int64 \n",
      "\n",
      "No     7826\n",
      "Yes    1308\n",
      "Name: response, dtype: int64 \n",
      "\n",
      "Basic       5568\n",
      "Extended    2742\n",
      "Premium      824\n",
      "Name: coverage, dtype: int64 \n",
      "\n",
      "Bachelor                2748\n",
      "College                 2681\n",
      "High School or Below    2622\n",
      "Master                   741\n",
      "Doctor                   342\n",
      "Name: education, dtype: int64 \n",
      "\n",
      "Employed         5698\n",
      "Unemployed       2317\n",
      "Medical Leave     432\n",
      "Disabled          405\n",
      "Retired           282\n",
      "Name: employment_status, dtype: int64 \n",
      "\n",
      "F    4658\n",
      "M    4476\n",
      "Name: gender, dtype: int64 \n",
      "\n",
      "Suburban    5779\n",
      "Rural       1773\n",
      "Urban       1582\n",
      "Name: location_code, dtype: int64 \n",
      "\n",
      "Married     5298\n",
      "Single      2467\n",
      "Divorced    1369\n",
      "Name: marital_status, dtype: int64 \n",
      "\n",
      "Personal Auto     6788\n",
      "Corporate Auto    1968\n",
      "Special Auto       378\n",
      "Name: policy_type, dtype: int64 \n",
      "\n",
      "Personal L3     3426\n",
      "Personal L2     2122\n",
      "Personal L1     1240\n",
      "Corporate L3    1014\n",
      "Corporate L2     595\n",
      "Corporate L1     359\n",
      "Special L2       164\n",
      "Special L3       148\n",
      "Special L1        66\n",
      "Name: policy, dtype: int64 \n",
      "\n",
      "Offer1    3752\n",
      "Offer2    2926\n",
      "Offer3    1432\n",
      "Offer4    1024\n",
      "Name: renew_offer_type, dtype: int64 \n",
      "\n",
      "Agent          3477\n",
      "Branch         2567\n",
      "Call Center    1765\n",
      "Web            1325\n",
      "Name: sales_channel, dtype: int64 \n",
      "\n",
      "Four-Door Car    4621\n",
      "Two-Door Car     1886\n",
      "SUV              1796\n",
      "Sports Car        484\n",
      "Luxury SUV        184\n",
      "Luxury Car        163\n",
      "Name: vehicle_class, dtype: int64 \n",
      "\n",
      "Medsize    6424\n",
      "Small      1764\n",
      "Large       946\n",
      "Name: vehicle_size, dtype: int64 \n",
      "\n"
     ]
    }
   ],
   "source": [
    "for col in categorical_df:\n",
    "    print(categorical_df[col].value_counts(), '\\n')"
   ]
  },
  {
   "cell_type": "markdown",
   "id": "535ccaf3",
   "metadata": {},
   "source": [
    "## 5. Check dtypes. Do they all make sense as categorical data?"
   ]
  },
  {
   "cell_type": "code",
   "execution_count": 24,
   "id": "94121d34",
   "metadata": {},
   "outputs": [
    {
     "data": {
      "text/plain": [
       "customer             object\n",
       "state                object\n",
       "response             object\n",
       "coverage             object\n",
       "education            object\n",
       "employment_status    object\n",
       "gender               object\n",
       "location_code        object\n",
       "marital_status       object\n",
       "policy_type          object\n",
       "policy               object\n",
       "renew_offer_type     object\n",
       "sales_channel        object\n",
       "vehicle_class        object\n",
       "vehicle_size         object\n",
       "dtype: object"
      ]
     },
     "execution_count": 24,
     "metadata": {},
     "output_type": "execute_result"
    }
   ],
   "source": [
    "categorical_df.dtypes"
   ]
  },
  {
   "cell_type": "code",
   "execution_count": 25,
   "id": "62eeda00",
   "metadata": {},
   "outputs": [
    {
     "data": {
      "text/html": [
       "<div>\n",
       "<style scoped>\n",
       "    .dataframe tbody tr th:only-of-type {\n",
       "        vertical-align: middle;\n",
       "    }\n",
       "\n",
       "    .dataframe tbody tr th {\n",
       "        vertical-align: top;\n",
       "    }\n",
       "\n",
       "    .dataframe thead th {\n",
       "        text-align: right;\n",
       "    }\n",
       "</style>\n",
       "<table border=\"1\" class=\"dataframe\">\n",
       "  <thead>\n",
       "    <tr style=\"text-align: right;\">\n",
       "      <th></th>\n",
       "      <th>customer</th>\n",
       "      <th>state</th>\n",
       "      <th>response</th>\n",
       "      <th>coverage</th>\n",
       "      <th>education</th>\n",
       "      <th>employment_status</th>\n",
       "      <th>gender</th>\n",
       "      <th>location_code</th>\n",
       "      <th>marital_status</th>\n",
       "      <th>policy_type</th>\n",
       "      <th>policy</th>\n",
       "      <th>renew_offer_type</th>\n",
       "      <th>sales_channel</th>\n",
       "      <th>vehicle_class</th>\n",
       "      <th>vehicle_size</th>\n",
       "    </tr>\n",
       "  </thead>\n",
       "  <tbody>\n",
       "    <tr>\n",
       "      <th>0</th>\n",
       "      <td>BU79786</td>\n",
       "      <td>Washington</td>\n",
       "      <td>No</td>\n",
       "      <td>Basic</td>\n",
       "      <td>Bachelor</td>\n",
       "      <td>Employed</td>\n",
       "      <td>F</td>\n",
       "      <td>Suburban</td>\n",
       "      <td>Married</td>\n",
       "      <td>Corporate Auto</td>\n",
       "      <td>Corporate L3</td>\n",
       "      <td>Offer1</td>\n",
       "      <td>Agent</td>\n",
       "      <td>Two-Door Car</td>\n",
       "      <td>Medsize</td>\n",
       "    </tr>\n",
       "    <tr>\n",
       "      <th>1</th>\n",
       "      <td>QZ44356</td>\n",
       "      <td>Arizona</td>\n",
       "      <td>No</td>\n",
       "      <td>Extended</td>\n",
       "      <td>Bachelor</td>\n",
       "      <td>Unemployed</td>\n",
       "      <td>F</td>\n",
       "      <td>Suburban</td>\n",
       "      <td>Single</td>\n",
       "      <td>Personal Auto</td>\n",
       "      <td>Personal L3</td>\n",
       "      <td>Offer3</td>\n",
       "      <td>Agent</td>\n",
       "      <td>Four-Door Car</td>\n",
       "      <td>Medsize</td>\n",
       "    </tr>\n",
       "    <tr>\n",
       "      <th>2</th>\n",
       "      <td>AI49188</td>\n",
       "      <td>Nevada</td>\n",
       "      <td>No</td>\n",
       "      <td>Premium</td>\n",
       "      <td>Bachelor</td>\n",
       "      <td>Employed</td>\n",
       "      <td>F</td>\n",
       "      <td>Suburban</td>\n",
       "      <td>Married</td>\n",
       "      <td>Personal Auto</td>\n",
       "      <td>Personal L3</td>\n",
       "      <td>Offer1</td>\n",
       "      <td>Agent</td>\n",
       "      <td>Two-Door Car</td>\n",
       "      <td>Medsize</td>\n",
       "    </tr>\n",
       "  </tbody>\n",
       "</table>\n",
       "</div>"
      ],
      "text/plain": [
       "  customer       state response  coverage education employment_status gender  \\\n",
       "0  BU79786  Washington       No     Basic  Bachelor          Employed      F   \n",
       "1  QZ44356     Arizona       No  Extended  Bachelor        Unemployed      F   \n",
       "2  AI49188      Nevada       No   Premium  Bachelor          Employed      F   \n",
       "\n",
       "  location_code marital_status     policy_type        policy renew_offer_type  \\\n",
       "0      Suburban        Married  Corporate Auto  Corporate L3           Offer1   \n",
       "1      Suburban         Single   Personal Auto   Personal L3           Offer3   \n",
       "2      Suburban        Married   Personal Auto   Personal L3           Offer1   \n",
       "\n",
       "  sales_channel  vehicle_class vehicle_size  \n",
       "0         Agent   Two-Door Car      Medsize  \n",
       "1         Agent  Four-Door Car      Medsize  \n",
       "2         Agent   Two-Door Car      Medsize  "
      ]
     },
     "execution_count": 25,
     "metadata": {},
     "output_type": "execute_result"
    }
   ],
   "source": [
    "categorical_df.head(3)"
   ]
  },
  {
   "cell_type": "markdown",
   "id": "8ebf08d4",
   "metadata": {},
   "source": [
    "## 6. Does any column contain alpha and numeric data? Decide how to clean it."
   ]
  },
  {
   "cell_type": "code",
   "execution_count": 26,
   "id": "4a93afc5",
   "metadata": {},
   "outputs": [
    {
     "data": {
      "text/plain": [
       "Personal L3     3426\n",
       "Personal L2     2122\n",
       "Personal L1     1240\n",
       "Corporate L3    1014\n",
       "Corporate L2     595\n",
       "Corporate L1     359\n",
       "Special L2       164\n",
       "Special L3       148\n",
       "Special L1        66\n",
       "Name: policy, dtype: int64"
      ]
     },
     "execution_count": 26,
     "metadata": {},
     "output_type": "execute_result"
    }
   ],
   "source": [
    "categorical_df['policy'].value_counts()"
   ]
  },
  {
   "cell_type": "code",
   "execution_count": 27,
   "id": "a54c6b52",
   "metadata": {},
   "outputs": [
    {
     "data": {
      "text/plain": [
       "Offer1    3752\n",
       "Offer2    2926\n",
       "Offer3    1432\n",
       "Offer4    1024\n",
       "Name: renew_offer_type, dtype: int64"
      ]
     },
     "execution_count": 27,
     "metadata": {},
     "output_type": "execute_result"
    }
   ],
   "source": [
    "categorical_df['renew_offer_type'].value_counts()"
   ]
  },
  {
   "cell_type": "code",
   "execution_count": 28,
   "id": "20039cde",
   "metadata": {},
   "outputs": [
    {
     "name": "stdout",
     "output_type": "stream",
     "text": [
      "<class 'pandas.core.frame.DataFrame'>\n",
      "RangeIndex: 9134 entries, 0 to 9133\n",
      "Data columns (total 23 columns):\n",
      " #   Column                         Non-Null Count  Dtype         \n",
      "---  ------                         --------------  -----         \n",
      " 0   customer                       9134 non-null   object        \n",
      " 1   state                          9134 non-null   object        \n",
      " 2   customer_lifetime_value        9134 non-null   float64       \n",
      " 3   response                       9134 non-null   object        \n",
      " 4   coverage                       9134 non-null   object        \n",
      " 5   education                      9134 non-null   object        \n",
      " 6   effective_to_date              9134 non-null   datetime64[ns]\n",
      " 7   employment_status              9134 non-null   object        \n",
      " 8   gender                         9134 non-null   object        \n",
      " 9   income                         9134 non-null   float64       \n",
      " 10  location_code                  9134 non-null   object        \n",
      " 11  marital_status                 9134 non-null   object        \n",
      " 12  monthly_premium_auto           9134 non-null   float64       \n",
      " 13  months_since_last_claim        9134 non-null   int64         \n",
      " 14  months_since_policy_inception  9134 non-null   int64         \n",
      " 15  number_of_open_complaints      9134 non-null   int64         \n",
      " 16  number_of_policies             9134 non-null   int64         \n",
      " 17  policy_type                    9134 non-null   object        \n",
      " 18  renew_offer_type               9134 non-null   object        \n",
      " 19  sales_channel                  9134 non-null   object        \n",
      " 20  total_claim_amount             9134 non-null   float64       \n",
      " 21  vehicle_class                  9134 non-null   object        \n",
      " 22  vehicle_size                   9134 non-null   object        \n",
      "dtypes: datetime64[ns](1), float64(4), int64(4), object(14)\n",
      "memory usage: 1.6+ MB\n"
     ]
    }
   ],
   "source": [
    "customer_df = customer_df.drop('policy',axis = 1)\n",
    "customer_df.info()"
   ]
  },
  {
   "cell_type": "markdown",
   "id": "b019102b",
   "metadata": {},
   "source": [
    "### Answers:\n",
    "We have 3 columns with included alpha and numeric data: customer, policy and renew_offer_type.\n",
    "\n",
    "customer I will delete it later.\n",
    "policy I remove it because this column contains the same information as the policy_type column.\n",
    "renew_offer_type I decided not to do anything with this column, because it simply describes the type of offer, and it doesn't really matter what it's called."
   ]
  },
  {
   "cell_type": "markdown",
   "id": "a831269e",
   "metadata": {},
   "source": [
    "## 7. Would you choose to do anything else to clean or wrangle the categorical data? Comment your decisions.\n",
    "Answers:\n",
    "For this step I don't see that we have to do anything else with categorical data. Only combined some subcategories in columns."
   ]
  },
  {
   "cell_type": "markdown",
   "id": "f7c2162b",
   "metadata": {},
   "source": [
    "## 8. Compare policy_type and policy. What information is contained in these columns. Can you identify what is important?"
   ]
  },
  {
   "cell_type": "code",
   "execution_count": 29,
   "id": "5f448449",
   "metadata": {},
   "outputs": [
    {
     "data": {
      "text/plain": [
       "Personal Auto     6788\n",
       "Corporate Auto    1968\n",
       "Special Auto       378\n",
       "Name: policy_type, dtype: int64"
      ]
     },
     "execution_count": 29,
     "metadata": {},
     "output_type": "execute_result"
    }
   ],
   "source": [
    "\n",
    "categorical_df['policy_type'].value_counts()"
   ]
  },
  {
   "cell_type": "code",
   "execution_count": 34,
   "id": "be342407",
   "metadata": {},
   "outputs": [
    {
     "data": {
      "text/plain": [
       "Personal L3     3426\n",
       "Personal L2     2122\n",
       "Personal L1     1240\n",
       "Corporate L3    1014\n",
       "Corporate L2     595\n",
       "Corporate L1     359\n",
       "Special L2       164\n",
       "Special L3       148\n",
       "Special L1        66\n",
       "Name: policy, dtype: int64"
      ]
     },
     "execution_count": 34,
     "metadata": {},
     "output_type": "execute_result"
    }
   ],
   "source": [
    "categorical_df['policy'].value_counts()"
   ]
  },
  {
   "cell_type": "markdown",
   "id": "bccf9620",
   "metadata": {},
   "source": [
    "### As I noted above, we don't need both of these columns. Because they contained the same information, only the policy column contained more detailed information. Of these two, I decided to remove the policy column."
   ]
  },
  {
   "cell_type": "markdown",
   "id": "3c5859e6",
   "metadata": {},
   "source": [
    "# 9. Check number of unique values in each column, can they be combined in any way to ease encoding? Comment your thoughts and make those changes.\n",
    "Column employment_status\n",
    "Combine the values: Medical Leave, Disabled and Retired with Unemployed value. Because these values have the same meaning.\n",
    "\n",
    "Column education\n",
    "Combine the values: Master and Doctor in a new sub-category High-level-degree.\n",
    "\n",
    "Column vehicle_class\n",
    "Create a new sub-category Luxury-Sport that will include the old values: Sports Car, Luxury SUV, Luxury Car."
   ]
  },
  {
   "cell_type": "code",
   "execution_count": 36,
   "id": "fa7d312d",
   "metadata": {},
   "outputs": [
    {
     "data": {
      "text/plain": [
       "Employed      5698\n",
       "Unemployed    3436\n",
       "Name: employment_status, dtype: int64"
      ]
     },
     "execution_count": 36,
     "metadata": {},
     "output_type": "execute_result"
    }
   ],
   "source": [
    "customer_df['employment_status'] = np.where(customer_df['employment_status'].isin(['Medical Leave','Disabled','Retired']) ,\n",
    "                                            'Unemployed', customer_df['employment_status'])\n",
    "customer_df['employment_status'].value_counts()"
   ]
  },
  {
   "cell_type": "code",
   "execution_count": 37,
   "id": "ac04ff06",
   "metadata": {},
   "outputs": [
    {
     "data": {
      "text/plain": [
       "Bachelor                2748\n",
       "College                 2681\n",
       "High School or Below    2622\n",
       "High-level-degree       1083\n",
       "Name: education, dtype: int64"
      ]
     },
     "execution_count": 37,
     "metadata": {},
     "output_type": "execute_result"
    }
   ],
   "source": [
    "def education(x):\n",
    "    if x in ['Master', 'Doctor']:\n",
    "        return 'High-level-degree'\n",
    "    else:\n",
    "        return x\n",
    "    \n",
    "customer_df['education'] = customer_df['education'].apply(education)\n",
    "customer_df['education'].value_counts()"
   ]
  },
  {
   "cell_type": "code",
   "execution_count": 38,
   "id": "3b410583",
   "metadata": {},
   "outputs": [
    {
     "data": {
      "text/plain": [
       "Four-Door Car    4621\n",
       "Two-Door Car     1886\n",
       "SUV              1796\n",
       "Luxury-Sport      831\n",
       "Name: vehicle_class, dtype: int64"
      ]
     },
     "execution_count": 38,
     "metadata": {},
     "output_type": "execute_result"
    }
   ],
   "source": [
    "def vehicle_class(x):\n",
    "    if x in ['Sports Car', 'Luxury SUV', 'Luxury Car']:\n",
    "        return 'Luxury-Sport'\n",
    "    else:\n",
    "        return x\n",
    "    \n",
    "customer_df['vehicle_class'] = customer_df['vehicle_class'].apply(vehicle_class)\n",
    "customer_df['vehicle_class'].value_counts()"
   ]
  },
  {
   "cell_type": "markdown",
   "id": "0cc0de4c",
   "metadata": {},
   "source": [
    "## Save new data"
   ]
  },
  {
   "cell_type": "code",
   "execution_count": 39,
   "id": "49652f55",
   "metadata": {},
   "outputs": [],
   "source": [
    "\n",
    "customer_df.to_csv('files_for_lab/2step_we_fn_use_c_marketing_customer_value_analysis.csv', index=False)"
   ]
  },
  {
   "cell_type": "markdown",
   "id": "20cfb049",
   "metadata": {},
   "source": [
    "# Lab 4.03 | FEATURE extraction"
   ]
  },
  {
   "cell_type": "code",
   "execution_count": 40,
   "id": "ddfd9759",
   "metadata": {},
   "outputs": [],
   "source": [
    "customer_df = pd.read_csv('files_for_lab/2step_we_fn_use_c_marketing_customer_value_analysis.csv')\n",
    "customer_df['effective_to_date'] = pd.to_datetime(customer_df['effective_to_date'], errors='coerce')"
   ]
  },
  {
   "cell_type": "code",
   "execution_count": 41,
   "id": "a538b2c5",
   "metadata": {},
   "outputs": [
    {
     "name": "stderr",
     "output_type": "stream",
     "text": [
      "/var/folders/vp/2wvfyb695rg5q5v9fgk55vpr0000gn/T/ipykernel_68212/2044039042.py:1: DeprecationWarning: `np.object` is a deprecated alias for the builtin `object`. To silence this warning, use `object` by itself. Doing this will not modify any behavior and is safe. \n",
      "Deprecated in NumPy 1.20; for more details and guidance: https://numpy.org/devdocs/release/1.20.0-notes.html#deprecations\n",
      "  categoricals = customer_df.select_dtypes(np.object)\n"
     ]
    },
    {
     "data": {
      "text/html": [
       "<div>\n",
       "<style scoped>\n",
       "    .dataframe tbody tr th:only-of-type {\n",
       "        vertical-align: middle;\n",
       "    }\n",
       "\n",
       "    .dataframe tbody tr th {\n",
       "        vertical-align: top;\n",
       "    }\n",
       "\n",
       "    .dataframe thead th {\n",
       "        text-align: right;\n",
       "    }\n",
       "</style>\n",
       "<table border=\"1\" class=\"dataframe\">\n",
       "  <thead>\n",
       "    <tr style=\"text-align: right;\">\n",
       "      <th></th>\n",
       "      <th>customer</th>\n",
       "      <th>state</th>\n",
       "      <th>response</th>\n",
       "      <th>coverage</th>\n",
       "      <th>education</th>\n",
       "      <th>employment_status</th>\n",
       "      <th>gender</th>\n",
       "      <th>location_code</th>\n",
       "      <th>marital_status</th>\n",
       "      <th>policy_type</th>\n",
       "      <th>renew_offer_type</th>\n",
       "      <th>sales_channel</th>\n",
       "      <th>vehicle_class</th>\n",
       "      <th>vehicle_size</th>\n",
       "    </tr>\n",
       "  </thead>\n",
       "  <tbody>\n",
       "    <tr>\n",
       "      <th>0</th>\n",
       "      <td>BU79786</td>\n",
       "      <td>Washington</td>\n",
       "      <td>No</td>\n",
       "      <td>Basic</td>\n",
       "      <td>Bachelor</td>\n",
       "      <td>Employed</td>\n",
       "      <td>F</td>\n",
       "      <td>Suburban</td>\n",
       "      <td>Married</td>\n",
       "      <td>Corporate Auto</td>\n",
       "      <td>Offer1</td>\n",
       "      <td>Agent</td>\n",
       "      <td>Two-Door Car</td>\n",
       "      <td>Medsize</td>\n",
       "    </tr>\n",
       "    <tr>\n",
       "      <th>1</th>\n",
       "      <td>QZ44356</td>\n",
       "      <td>Arizona</td>\n",
       "      <td>No</td>\n",
       "      <td>Extended</td>\n",
       "      <td>Bachelor</td>\n",
       "      <td>Unemployed</td>\n",
       "      <td>F</td>\n",
       "      <td>Suburban</td>\n",
       "      <td>Single</td>\n",
       "      <td>Personal Auto</td>\n",
       "      <td>Offer3</td>\n",
       "      <td>Agent</td>\n",
       "      <td>Four-Door Car</td>\n",
       "      <td>Medsize</td>\n",
       "    </tr>\n",
       "    <tr>\n",
       "      <th>2</th>\n",
       "      <td>AI49188</td>\n",
       "      <td>Nevada</td>\n",
       "      <td>No</td>\n",
       "      <td>Premium</td>\n",
       "      <td>Bachelor</td>\n",
       "      <td>Employed</td>\n",
       "      <td>F</td>\n",
       "      <td>Suburban</td>\n",
       "      <td>Married</td>\n",
       "      <td>Personal Auto</td>\n",
       "      <td>Offer1</td>\n",
       "      <td>Agent</td>\n",
       "      <td>Two-Door Car</td>\n",
       "      <td>Medsize</td>\n",
       "    </tr>\n",
       "    <tr>\n",
       "      <th>3</th>\n",
       "      <td>WW63253</td>\n",
       "      <td>California</td>\n",
       "      <td>No</td>\n",
       "      <td>Basic</td>\n",
       "      <td>Bachelor</td>\n",
       "      <td>Unemployed</td>\n",
       "      <td>M</td>\n",
       "      <td>Suburban</td>\n",
       "      <td>Married</td>\n",
       "      <td>Corporate Auto</td>\n",
       "      <td>Offer1</td>\n",
       "      <td>Call Center</td>\n",
       "      <td>SUV</td>\n",
       "      <td>Medsize</td>\n",
       "    </tr>\n",
       "    <tr>\n",
       "      <th>4</th>\n",
       "      <td>HB64268</td>\n",
       "      <td>Washington</td>\n",
       "      <td>No</td>\n",
       "      <td>Basic</td>\n",
       "      <td>Bachelor</td>\n",
       "      <td>Employed</td>\n",
       "      <td>M</td>\n",
       "      <td>Rural</td>\n",
       "      <td>Single</td>\n",
       "      <td>Personal Auto</td>\n",
       "      <td>Offer1</td>\n",
       "      <td>Agent</td>\n",
       "      <td>Four-Door Car</td>\n",
       "      <td>Medsize</td>\n",
       "    </tr>\n",
       "  </tbody>\n",
       "</table>\n",
       "</div>"
      ],
      "text/plain": [
       "  customer       state response  coverage education employment_status gender  \\\n",
       "0  BU79786  Washington       No     Basic  Bachelor          Employed      F   \n",
       "1  QZ44356     Arizona       No  Extended  Bachelor        Unemployed      F   \n",
       "2  AI49188      Nevada       No   Premium  Bachelor          Employed      F   \n",
       "3  WW63253  California       No     Basic  Bachelor        Unemployed      M   \n",
       "4  HB64268  Washington       No     Basic  Bachelor          Employed      M   \n",
       "\n",
       "  location_code marital_status     policy_type renew_offer_type sales_channel  \\\n",
       "0      Suburban        Married  Corporate Auto           Offer1         Agent   \n",
       "1      Suburban         Single   Personal Auto           Offer3         Agent   \n",
       "2      Suburban        Married   Personal Auto           Offer1         Agent   \n",
       "3      Suburban        Married  Corporate Auto           Offer1   Call Center   \n",
       "4         Rural         Single   Personal Auto           Offer1         Agent   \n",
       "\n",
       "   vehicle_class vehicle_size  \n",
       "0   Two-Door Car      Medsize  \n",
       "1  Four-Door Car      Medsize  \n",
       "2   Two-Door Car      Medsize  \n",
       "3            SUV      Medsize  \n",
       "4  Four-Door Car      Medsize  "
      ]
     },
     "execution_count": 41,
     "metadata": {},
     "output_type": "execute_result"
    }
   ],
   "source": [
    "categoricals = customer_df.select_dtypes(np.object)\n",
    "categoricals.head()"
   ]
  },
  {
   "cell_type": "markdown",
   "id": "5d5a41b7",
   "metadata": {},
   "source": [
    "### 2.Plot all the categorical variables with the proper plot. What can you see?"
   ]
  },
  {
   "cell_type": "code",
   "execution_count": 42,
   "id": "d06112d5",
   "metadata": {},
   "outputs": [
    {
     "data": {
      "text/plain": [
       "Index(['customer', 'state', 'response', 'coverage', 'education',\n",
       "       'employment_status', 'gender', 'location_code', 'marital_status',\n",
       "       'policy_type', 'renew_offer_type', 'sales_channel', 'vehicle_class',\n",
       "       'vehicle_size'],\n",
       "      dtype='object')"
      ]
     },
     "execution_count": 42,
     "metadata": {},
     "output_type": "execute_result"
    }
   ],
   "source": [
    "categoricals.columns"
   ]
  },
  {
   "cell_type": "code",
   "execution_count": 43,
   "id": "c11e50d6",
   "metadata": {},
   "outputs": [
    {
     "data": {
      "text/plain": [
       "<AxesSubplot:xlabel='vehicle_size', ylabel='count'>"
      ]
     },
     "execution_count": 43,
     "metadata": {},
     "output_type": "execute_result"
    },
    {
     "data": {
      "image/png": "[encoded data removed]",
      "text/plain": [
       "<Figure size 3000x3000 with 15 Axes>"
      ]
     },
     "metadata": {},
     "output_type": "display_data"
    }
   ],
   "source": [
    "fig, axes = plt.subplots(3,5,  figsize=(30, 30))\n",
    "\n",
    "fig.suptitle('Distribution of categorical variables in countplots')\n",
    "\n",
    "sns.countplot(ax=axes[0,0],data= categoricals, x= 'state' )\n",
    "sns.countplot(ax=axes[0,1],data= categoricals, x= 'response' )\n",
    "sns.countplot(ax=axes[0,2],data= categoricals, x= 'coverage')\n",
    "sns.countplot(ax=axes[0,3],data= categoricals, x= 'education')\n",
    "sns.countplot(ax=axes[0,4],data= categoricals, x= 'employment_status')\n",
    "sns.countplot(ax=axes[1,0],data= categoricals, x= 'gender')\n",
    "sns.countplot(ax=axes[1,1],data= categoricals, x= 'location_code')\n",
    "sns.countplot(ax=axes[1,2],data= categoricals, x= 'marital_status')\n",
    "sns.countplot(ax=axes[1,3],data= categoricals, x= 'policy_type')\n",
    "sns.countplot(ax=axes[1,4],data= categoricals, x= 'renew_offer_type')\n",
    "sns.countplot(ax=axes[2,0],data= categoricals, x= 'sales_channel')\n",
    "sns.countplot(ax=axes[2,1],data= categoricals, x= 'vehicle_class')\n",
    "sns.countplot(ax=axes[2,2],data= categoricals, x= 'vehicle_size')\n"
   ]
  },
  {
   "cell_type": "markdown",
   "id": "d33a1925",
   "metadata": {},
   "source": [
    "### 3.There might be some columns that seem to be redundant, check their values to be sure. What should we do with them?\n",
    "\n",
    "\n",
    ".We find redundancy between 'Policy' and 'Policy_type'.\n",
    "\n",
    ".We have already deal with this previously ( we only keep the policy_type column in our categorical data frame)"
   ]
  },
  {
   "cell_type": "markdown",
   "id": "c972f2de",
   "metadata": {},
   "source": [
    "### 19.Plot time variable. Can you extract something from it?"
   ]
  },
  {
   "cell_type": "code",
   "execution_count": 44,
   "id": "66afd9c6",
   "metadata": {},
   "outputs": [
    {
     "data": {
      "text/plain": [
       "0      2011-02-24\n",
       "1      2011-01-31\n",
       "2      2011-02-19\n",
       "3      2011-01-20\n",
       "4      2011-02-03\n",
       "          ...    \n",
       "9129   2011-02-10\n",
       "9130   2011-02-12\n",
       "9131   2011-02-06\n",
       "9132   2011-02-03\n",
       "9133   2011-02-14\n",
       "Name: effective_to_date, Length: 9134, dtype: datetime64[ns]"
      ]
     },
     "execution_count": 44,
     "metadata": {},
     "output_type": "execute_result"
    }
   ],
   "source": [
    "customer_df['effective_to_date']"
   ]
  },
  {
   "cell_type": "code",
   "execution_count": 45,
   "id": "0cead795",
   "metadata": {},
   "outputs": [
    {
     "data": {
      "text/plain": [
       "<AxesSubplot:xlabel='effective_to_date', ylabel='Count'>"
      ]
     },
     "execution_count": 45,
     "metadata": {},
     "output_type": "execute_result"
    },
    {
     "data": {
      "image/png": "[encoded data removed]",
      "text/plain": [
       "<Figure size 1500x400 with 1 Axes>"
      ]
     },
     "metadata": {},
     "output_type": "display_data"
    }
   ],
   "source": [
    "\n",
    "plt.figure(figsize=(15,4))\n",
    "sns.histplot(data=customer_df, x=\"effective_to_date\")\n"
   ]
  },
  {
   "cell_type": "code",
   "execution_count": 46,
   "id": "fcfa4b20",
   "metadata": {},
   "outputs": [
    {
     "data": {
      "text/plain": [
       "<AxesSubplot:xlabel='effective_to_date', ylabel='total_claim_amount'>"
      ]
     },
     "execution_count": 46,
     "metadata": {},
     "output_type": "execute_result"
    },
    {
     "data": {
      "image/png": "[encoded data removed]",
      "text/plain": [
       "<Figure size 1500x400 with 1 Axes>"
      ]
     },
     "metadata": {},
     "output_type": "display_data"
    }
   ],
   "source": [
    "\n",
    "plt.figure(figsize=(15,4))\n",
    "sns.lineplot(data=customer_df, x=\"effective_to_date\", y='total_claim_amount',markers=True)"
   ]
  },
  {
   "cell_type": "code",
   "execution_count": 47,
   "id": "e6e496d7",
   "metadata": {
    "scrolled": true
   },
   "outputs": [
    {
     "data": {
      "text/html": [
       "<div>\n",
       "<style scoped>\n",
       "    .dataframe tbody tr th:only-of-type {\n",
       "        vertical-align: middle;\n",
       "    }\n",
       "\n",
       "    .dataframe tbody tr th {\n",
       "        vertical-align: top;\n",
       "    }\n",
       "\n",
       "    .dataframe thead th {\n",
       "        text-align: right;\n",
       "    }\n",
       "</style>\n",
       "<table border=\"1\" class=\"dataframe\">\n",
       "  <thead>\n",
       "    <tr style=\"text-align: right;\">\n",
       "      <th></th>\n",
       "      <th>customer</th>\n",
       "      <th>state</th>\n",
       "      <th>customer_lifetime_value</th>\n",
       "      <th>response</th>\n",
       "      <th>coverage</th>\n",
       "      <th>education</th>\n",
       "      <th>effective_to_date</th>\n",
       "      <th>employment_status</th>\n",
       "      <th>gender</th>\n",
       "      <th>income</th>\n",
       "      <th>...</th>\n",
       "      <th>number_of_policies</th>\n",
       "      <th>policy_type</th>\n",
       "      <th>renew_offer_type</th>\n",
       "      <th>sales_channel</th>\n",
       "      <th>total_claim_amount</th>\n",
       "      <th>vehicle_class</th>\n",
       "      <th>vehicle_size</th>\n",
       "      <th>year</th>\n",
       "      <th>month</th>\n",
       "      <th>day_week</th>\n",
       "    </tr>\n",
       "  </thead>\n",
       "  <tbody>\n",
       "    <tr>\n",
       "      <th>0</th>\n",
       "      <td>BU79786</td>\n",
       "      <td>Washington</td>\n",
       "      <td>2763.519279</td>\n",
       "      <td>No</td>\n",
       "      <td>Basic</td>\n",
       "      <td>Bachelor</td>\n",
       "      <td>2011-02-24</td>\n",
       "      <td>Employed</td>\n",
       "      <td>F</td>\n",
       "      <td>56274.0</td>\n",
       "      <td>...</td>\n",
       "      <td>1</td>\n",
       "      <td>Corporate Auto</td>\n",
       "      <td>Offer1</td>\n",
       "      <td>Agent</td>\n",
       "      <td>384.811147</td>\n",
       "      <td>Two-Door Car</td>\n",
       "      <td>Medsize</td>\n",
       "      <td>2011</td>\n",
       "      <td>2</td>\n",
       "      <td>24</td>\n",
       "    </tr>\n",
       "    <tr>\n",
       "      <th>1</th>\n",
       "      <td>QZ44356</td>\n",
       "      <td>Arizona</td>\n",
       "      <td>6979.535903</td>\n",
       "      <td>No</td>\n",
       "      <td>Extended</td>\n",
       "      <td>Bachelor</td>\n",
       "      <td>2011-01-31</td>\n",
       "      <td>Unemployed</td>\n",
       "      <td>F</td>\n",
       "      <td>0.0</td>\n",
       "      <td>...</td>\n",
       "      <td>8</td>\n",
       "      <td>Personal Auto</td>\n",
       "      <td>Offer3</td>\n",
       "      <td>Agent</td>\n",
       "      <td>1131.464935</td>\n",
       "      <td>Four-Door Car</td>\n",
       "      <td>Medsize</td>\n",
       "      <td>2011</td>\n",
       "      <td>1</td>\n",
       "      <td>31</td>\n",
       "    </tr>\n",
       "    <tr>\n",
       "      <th>2</th>\n",
       "      <td>AI49188</td>\n",
       "      <td>Nevada</td>\n",
       "      <td>12887.431650</td>\n",
       "      <td>No</td>\n",
       "      <td>Premium</td>\n",
       "      <td>Bachelor</td>\n",
       "      <td>2011-02-19</td>\n",
       "      <td>Employed</td>\n",
       "      <td>F</td>\n",
       "      <td>48767.0</td>\n",
       "      <td>...</td>\n",
       "      <td>2</td>\n",
       "      <td>Personal Auto</td>\n",
       "      <td>Offer1</td>\n",
       "      <td>Agent</td>\n",
       "      <td>566.472247</td>\n",
       "      <td>Two-Door Car</td>\n",
       "      <td>Medsize</td>\n",
       "      <td>2011</td>\n",
       "      <td>2</td>\n",
       "      <td>19</td>\n",
       "    </tr>\n",
       "  </tbody>\n",
       "</table>\n",
       "<p>3 rows × 26 columns</p>\n",
       "</div>"
      ],
      "text/plain": [
       "  customer       state  customer_lifetime_value response  coverage education  \\\n",
       "0  BU79786  Washington              2763.519279       No     Basic  Bachelor   \n",
       "1  QZ44356     Arizona              6979.535903       No  Extended  Bachelor   \n",
       "2  AI49188      Nevada             12887.431650       No   Premium  Bachelor   \n",
       "\n",
       "  effective_to_date employment_status gender   income  ... number_of_policies  \\\n",
       "0        2011-02-24          Employed      F  56274.0  ...                  1   \n",
       "1        2011-01-31        Unemployed      F      0.0  ...                  8   \n",
       "2        2011-02-19          Employed      F  48767.0  ...                  2   \n",
       "\n",
       "      policy_type  renew_offer_type  sales_channel  total_claim_amount  \\\n",
       "0  Corporate Auto            Offer1          Agent          384.811147   \n",
       "1   Personal Auto            Offer3          Agent         1131.464935   \n",
       "2   Personal Auto            Offer1          Agent          566.472247   \n",
       "\n",
       "   vehicle_class  vehicle_size  year month day_week  \n",
       "0   Two-Door Car       Medsize  2011     2       24  \n",
       "1  Four-Door Car       Medsize  2011     1       31  \n",
       "2   Two-Door Car       Medsize  2011     2       19  \n",
       "\n",
       "[3 rows x 26 columns]"
      ]
     },
     "execution_count": 47,
     "metadata": {},
     "output_type": "execute_result"
    }
   ],
   "source": [
    "\n",
    "def date(customer_df, some_date):\n",
    "    customer_df['year'] = customer_df['effective_to_date'].dt.year\n",
    "    customer_df['month'] = customer_df['effective_to_date'].dt.month\n",
    "    customer_df['day_week'] = customer_df['effective_to_date'].dt.day\n",
    "\n",
    "    return customer_df\n",
    "\n",
    "customer_df = date(customer_df, customer_df['effective_to_date'])\n",
    "\n",
    "customer_df.head(3)"
   ]
  },
  {
   "cell_type": "code",
   "execution_count": 48,
   "id": "28a33963",
   "metadata": {},
   "outputs": [],
   "source": [
    "customer_df.to_csv('files_for_lab/3step_we_fn_use_c_marketing_customer_value_analysis.csv', index=False)"
   ]
  },
  {
   "cell_type": "markdown",
   "id": "c13045c4",
   "metadata": {},
   "source": [
    "# Lab | Comparing regression models\n",
    "### 1. In this final lab, we will model our data. Import sklearn train_test_split and separate the data."
   ]
  },
  {
   "cell_type": "code",
   "execution_count": 49,
   "id": "fcb88651",
   "metadata": {},
   "outputs": [],
   "source": [
    "from sklearn.model_selection import train_test_split"
   ]
  },
  {
   "cell_type": "code",
   "execution_count": 50,
   "id": "8faed3aa",
   "metadata": {},
   "outputs": [
    {
     "data": {
      "text/html": [
       "<div>\n",
       "<style scoped>\n",
       "    .dataframe tbody tr th:only-of-type {\n",
       "        vertical-align: middle;\n",
       "    }\n",
       "\n",
       "    .dataframe tbody tr th {\n",
       "        vertical-align: top;\n",
       "    }\n",
       "\n",
       "    .dataframe thead th {\n",
       "        text-align: right;\n",
       "    }\n",
       "</style>\n",
       "<table border=\"1\" class=\"dataframe\">\n",
       "  <thead>\n",
       "    <tr style=\"text-align: right;\">\n",
       "      <th></th>\n",
       "      <th>customer</th>\n",
       "      <th>state</th>\n",
       "      <th>customer_lifetime_value</th>\n",
       "      <th>response</th>\n",
       "      <th>coverage</th>\n",
       "      <th>education</th>\n",
       "      <th>effective_to_date</th>\n",
       "      <th>employment_status</th>\n",
       "      <th>gender</th>\n",
       "      <th>income</th>\n",
       "      <th>...</th>\n",
       "      <th>number_of_policies</th>\n",
       "      <th>policy_type</th>\n",
       "      <th>renew_offer_type</th>\n",
       "      <th>sales_channel</th>\n",
       "      <th>total_claim_amount</th>\n",
       "      <th>vehicle_class</th>\n",
       "      <th>vehicle_size</th>\n",
       "      <th>year</th>\n",
       "      <th>month</th>\n",
       "      <th>day_week</th>\n",
       "    </tr>\n",
       "  </thead>\n",
       "  <tbody>\n",
       "    <tr>\n",
       "      <th>0</th>\n",
       "      <td>BU79786</td>\n",
       "      <td>Washington</td>\n",
       "      <td>2763.519279</td>\n",
       "      <td>No</td>\n",
       "      <td>Basic</td>\n",
       "      <td>Bachelor</td>\n",
       "      <td>2011-02-24</td>\n",
       "      <td>Employed</td>\n",
       "      <td>F</td>\n",
       "      <td>56274.0</td>\n",
       "      <td>...</td>\n",
       "      <td>1</td>\n",
       "      <td>Corporate Auto</td>\n",
       "      <td>Offer1</td>\n",
       "      <td>Agent</td>\n",
       "      <td>384.811147</td>\n",
       "      <td>Two-Door Car</td>\n",
       "      <td>Medsize</td>\n",
       "      <td>2011</td>\n",
       "      <td>2</td>\n",
       "      <td>24</td>\n",
       "    </tr>\n",
       "    <tr>\n",
       "      <th>1</th>\n",
       "      <td>QZ44356</td>\n",
       "      <td>Arizona</td>\n",
       "      <td>6979.535903</td>\n",
       "      <td>No</td>\n",
       "      <td>Extended</td>\n",
       "      <td>Bachelor</td>\n",
       "      <td>2011-01-31</td>\n",
       "      <td>Unemployed</td>\n",
       "      <td>F</td>\n",
       "      <td>0.0</td>\n",
       "      <td>...</td>\n",
       "      <td>8</td>\n",
       "      <td>Personal Auto</td>\n",
       "      <td>Offer3</td>\n",
       "      <td>Agent</td>\n",
       "      <td>1131.464935</td>\n",
       "      <td>Four-Door Car</td>\n",
       "      <td>Medsize</td>\n",
       "      <td>2011</td>\n",
       "      <td>1</td>\n",
       "      <td>31</td>\n",
       "    </tr>\n",
       "    <tr>\n",
       "      <th>2</th>\n",
       "      <td>AI49188</td>\n",
       "      <td>Nevada</td>\n",
       "      <td>12887.431650</td>\n",
       "      <td>No</td>\n",
       "      <td>Premium</td>\n",
       "      <td>Bachelor</td>\n",
       "      <td>2011-02-19</td>\n",
       "      <td>Employed</td>\n",
       "      <td>F</td>\n",
       "      <td>48767.0</td>\n",
       "      <td>...</td>\n",
       "      <td>2</td>\n",
       "      <td>Personal Auto</td>\n",
       "      <td>Offer1</td>\n",
       "      <td>Agent</td>\n",
       "      <td>566.472247</td>\n",
       "      <td>Two-Door Car</td>\n",
       "      <td>Medsize</td>\n",
       "      <td>2011</td>\n",
       "      <td>2</td>\n",
       "      <td>19</td>\n",
       "    </tr>\n",
       "  </tbody>\n",
       "</table>\n",
       "<p>3 rows × 26 columns</p>\n",
       "</div>"
      ],
      "text/plain": [
       "  customer       state  customer_lifetime_value response  coverage education  \\\n",
       "0  BU79786  Washington              2763.519279       No     Basic  Bachelor   \n",
       "1  QZ44356     Arizona              6979.535903       No  Extended  Bachelor   \n",
       "2  AI49188      Nevada             12887.431650       No   Premium  Bachelor   \n",
       "\n",
       "  effective_to_date employment_status gender   income  ... number_of_policies  \\\n",
       "0        2011-02-24          Employed      F  56274.0  ...                  1   \n",
       "1        2011-01-31        Unemployed      F      0.0  ...                  8   \n",
       "2        2011-02-19          Employed      F  48767.0  ...                  2   \n",
       "\n",
       "      policy_type  renew_offer_type  sales_channel  total_claim_amount  \\\n",
       "0  Corporate Auto            Offer1          Agent          384.811147   \n",
       "1   Personal Auto            Offer3          Agent         1131.464935   \n",
       "2   Personal Auto            Offer1          Agent          566.472247   \n",
       "\n",
       "   vehicle_class  vehicle_size  year month day_week  \n",
       "0   Two-Door Car       Medsize  2011     2       24  \n",
       "1  Four-Door Car       Medsize  2011     1       31  \n",
       "2   Two-Door Car       Medsize  2011     2       19  \n",
       "\n",
       "[3 rows x 26 columns]"
      ]
     },
     "execution_count": 50,
     "metadata": {},
     "output_type": "execute_result"
    }
   ],
   "source": [
    "customer_df = pd.read_csv('files_for_lab/3step_we_fn_use_c_marketing_customer_value_analysis.csv')\n",
    "customer_df.head(3)"
   ]
  },
  {
   "cell_type": "code",
   "execution_count": 51,
   "id": "de801840",
   "metadata": {},
   "outputs": [],
   "source": [
    "customer_df['effective_to_date'] = pd.to_datetime(customer_df['effective_to_date'], errors='coerce')"
   ]
  },
  {
   "cell_type": "code",
   "execution_count": 52,
   "id": "230a2508",
   "metadata": {},
   "outputs": [
    {
     "name": "stdout",
     "output_type": "stream",
     "text": [
      "<class 'pandas.core.frame.DataFrame'>\n",
      "RangeIndex: 9134 entries, 0 to 9133\n",
      "Data columns (total 26 columns):\n",
      " #   Column                         Non-Null Count  Dtype         \n",
      "---  ------                         --------------  -----         \n",
      " 0   customer                       9134 non-null   object        \n",
      " 1   state                          9134 non-null   object        \n",
      " 2   customer_lifetime_value        9134 non-null   float64       \n",
      " 3   response                       9134 non-null   object        \n",
      " 4   coverage                       9134 non-null   object        \n",
      " 5   education                      9134 non-null   object        \n",
      " 6   effective_to_date              9134 non-null   datetime64[ns]\n",
      " 7   employment_status              9134 non-null   object        \n",
      " 8   gender                         9134 non-null   object        \n",
      " 9   income                         9134 non-null   float64       \n",
      " 10  location_code                  9134 non-null   object        \n",
      " 11  marital_status                 9134 non-null   object        \n",
      " 12  monthly_premium_auto           9134 non-null   float64       \n",
      " 13  months_since_last_claim        9134 non-null   int64         \n",
      " 14  months_since_policy_inception  9134 non-null   int64         \n",
      " 15  number_of_open_complaints      9134 non-null   int64         \n",
      " 16  number_of_policies             9134 non-null   int64         \n",
      " 17  policy_type                    9134 non-null   object        \n",
      " 18  renew_offer_type               9134 non-null   object        \n",
      " 19  sales_channel                  9134 non-null   object        \n",
      " 20  total_claim_amount             9134 non-null   float64       \n",
      " 21  vehicle_class                  9134 non-null   object        \n",
      " 22  vehicle_size                   9134 non-null   object        \n",
      " 23  year                           9134 non-null   int64         \n",
      " 24  month                          9134 non-null   int64         \n",
      " 25  day_week                       9134 non-null   int64         \n",
      "dtypes: datetime64[ns](1), float64(4), int64(7), object(14)\n",
      "memory usage: 1.8+ MB\n"
     ]
    }
   ],
   "source": [
    "customer_df.info()"
   ]
  },
  {
   "cell_type": "markdown",
   "id": "f160a88f",
   "metadata": {},
   "source": [
    "## 2. We will start with removing outliers, if you have not already done so."
   ]
  },
  {
   "cell_type": "code",
   "execution_count": 53,
   "id": "6ad2679e",
   "metadata": {},
   "outputs": [
    {
     "data": {
      "image/png": "[encoded data removed]",
      "text/plain": [
       "<Figure size 640x480 with 1 Axes>"
      ]
     },
     "metadata": {},
     "output_type": "display_data"
    },
    {
     "data": {
      "image/png": "[encoded data removed]",
      "text/plain": [
       "<Figure size 640x480 with 1 Axes>"
      ]
     },
     "metadata": {},
     "output_type": "display_data"
    },
    {
     "data": {
      "image/png": "[encoded data removed]",
      "text/plain": [
       "<Figure size 640x480 with 1 Axes>"
      ]
     },
     "metadata": {},
     "output_type": "display_data"
    },
    {
     "data": {
      "image/png": "[encoded data removed]",
      "text/plain": [
       "<Figure size 640x480 with 1 Axes>"
      ]
     },
     "metadata": {},
     "output_type": "display_data"
    },
    {
     "data": {
      "image/png": "[encoded data removed]",
      "text/plain": [
       "<Figure size 640x480 with 1 Axes>"
      ]
     },
     "metadata": {},
     "output_type": "display_data"
    },
    {
     "data": {
      "image/png": "[encoded data removed]",
      "text/plain": [
       "<Figure size 640x480 with 1 Axes>"
      ]
     },
     "metadata": {},
     "output_type": "display_data"
    },
    {
     "data": {
      "image/png": "[encoded data removed]",
      "text/plain": [
       "<Figure size 640x480 with 1 Axes>"
      ]
     },
     "metadata": {},
     "output_type": "display_data"
    },
    {
     "data": {
      "image/png": "[encoded data removed]",
      "text/plain": [
       "<Figure size 640x480 with 1 Axes>"
      ]
     },
     "metadata": {},
     "output_type": "display_data"
    },
    {
     "data": {
      "image/png": "[encoded data removed]",
      "text/plain": [
       "<Figure size 640x480 with 1 Axes>"
      ]
     },
     "metadata": {},
     "output_type": "display_data"
    },
    {
     "data": {
      "image/png": "[encoded data removed]",
      "text/plain": [
       "<Figure size 640x480 with 1 Axes>"
      ]
     },
     "metadata": {},
     "output_type": "display_data"
    },
    {
     "data": {
      "image/png": "[encoded data removed]",
      "text/plain": [
       "<Figure size 640x480 with 1 Axes>"
      ]
     },
     "metadata": {},
     "output_type": "display_data"
    }
   ],
   "source": [
    "numeric = customer_df.select_dtypes(np.number)\n",
    "\n",
    "for i in numeric.columns:\n",
    "    sns.boxplot(x = i, data = numeric)\n",
    "    plt.show()"
   ]
  },
  {
   "cell_type": "code",
   "execution_count": 54,
   "id": "021fc9df",
   "metadata": {},
   "outputs": [
    {
     "data": {
      "text/plain": [
       "(9134, 26)"
      ]
     },
     "execution_count": 54,
     "metadata": {},
     "output_type": "execute_result"
    }
   ],
   "source": [
    "customer_df.shape"
   ]
  },
  {
   "cell_type": "code",
   "execution_count": 55,
   "id": "6a965a9e",
   "metadata": {},
   "outputs": [
    {
     "name": "stdout",
     "output_type": "stream",
     "text": [
      "customer_lifetime_value: 817\n",
      "monthly_premium_auto: 430\n",
      "total_claim_amount: 453\n"
     ]
    }
   ],
   "source": [
    "iqr_1= np.nanpercentile(customer_df['customer_lifetime_value'],75) - np.nanpercentile(customer_df['customer_lifetime_value'],25)\n",
    "upper_limit_1 = np.nanpercentile(customer_df['customer_lifetime_value'],75) + 1.5*iqr_1\n",
    "extraordinary_points_1 = customer_df[customer_df['customer_lifetime_value'] > upper_limit_1] \n",
    "\n",
    "iqr_2= np.nanpercentile(customer_df['monthly_premium_auto'],75) - np.nanpercentile(customer_df['monthly_premium_auto'],25)\n",
    "upper_limit_2 = np.nanpercentile(customer_df['monthly_premium_auto'],75) + 1.5*iqr_2\n",
    "extraordinary_points_2 = customer_df[customer_df['monthly_premium_auto'] > upper_limit_2] \n",
    "\n",
    "iqr_3= np.nanpercentile(customer_df['total_claim_amount'],75) - np.nanpercentile(customer_df['total_claim_amount'],25)\n",
    "upper_limit_3 = np.nanpercentile(customer_df['total_claim_amount'],75) + 1.5*iqr_3\n",
    "extraordinary_points_3 = customer_df[customer_df['total_claim_amount'] > upper_limit_3] \n",
    "\n",
    "# iqr_4= np.nanpercentile(customer_df['number_of_policies'],75) - np.nanpercentile(customer_df['number_of_policies'],25)\n",
    "# upper_limit_4 = np.nanpercentile(customer_df['number_of_policies'],75) + 1.5*iqr_4\n",
    "# extraordinary_points_4 = customer_df[customer_df['number_of_policies'] > upper_limit_4] \n",
    "\n",
    "# This checks the number of points that will be removed\n",
    "print('customer_lifetime_value:', len(extraordinary_points_1))\n",
    "print('monthly_premium_auto:', len(extraordinary_points_2))\n",
    "print('total_claim_amount:', len(extraordinary_points_3))\n",
    "# print('number_of_policies:', len(extraordinary_points_4))"
   ]
  },
  {
   "cell_type": "code",
   "execution_count": 56,
   "id": "a7383e69",
   "metadata": {},
   "outputs": [],
   "source": [
    "customer_df = customer_df[customer_df['customer_lifetime_value'] < upper_limit_1]\n",
    "customer_df = customer_df[customer_df['monthly_premium_auto'] < upper_limit_2 ]\n",
    "customer_df = customer_df[customer_df['total_claim_amount'] < upper_limit_3]\n",
    "# customer_df = customer_df[customer_df['number_of_policies'] < upper_limit_4]"
   ]
  },
  {
   "cell_type": "code",
   "execution_count": 57,
   "id": "3bcbd70c",
   "metadata": {},
   "outputs": [
    {
     "data": {
      "text/plain": [
       "(7847, 26)"
      ]
     },
     "execution_count": 57,
     "metadata": {},
     "output_type": "execute_result"
    }
   ],
   "source": [
    "customer_df.shape"
   ]
  },
  {
   "cell_type": "markdown",
   "id": "9741f151",
   "metadata": {},
   "source": [
    "### 3. Create a copy of the dataframe for the data wrangling."
   ]
  },
  {
   "cell_type": "code",
   "execution_count": 58,
   "id": "eb6bb1af",
   "metadata": {},
   "outputs": [],
   "source": [
    "df_copy = customer_df.copy()"
   ]
  },
  {
   "cell_type": "code",
   "execution_count": 59,
   "id": "7df55f14",
   "metadata": {},
   "outputs": [],
   "source": [
    "df_copy = df_copy.drop(['customer'],axis=1) #we don't need this column for next steps"
   ]
  },
  {
   "cell_type": "code",
   "execution_count": 60,
   "id": "20ea07a9",
   "metadata": {},
   "outputs": [
    {
     "data": {
      "text/plain": [
       "numpy.float64"
      ]
     },
     "execution_count": 60,
     "metadata": {},
     "output_type": "execute_result"
    }
   ],
   "source": [
    "df_copy['months_since_policy_inception'] = df_copy['months_since_policy_inception'].astype(float)\n",
    "type(df_copy['months_since_policy_inception'][0])"
   ]
  },
  {
   "cell_type": "markdown",
   "id": "deebf0eb",
   "metadata": {},
   "source": [
    "### 4. Normalize the continuous variables. You can use any one method you want."
   ]
  },
  {
   "cell_type": "code",
   "execution_count": 61,
   "id": "b2274bd3",
   "metadata": {},
   "outputs": [],
   "source": [
    "def filtering(x):\n",
    "    discrete_df = df_copy.select_dtypes('int64')\n",
    "    continuous_df = df_copy.select_dtypes('float64')\n",
    "    categorical_df = df_copy.select_dtypes('object')\n",
    "    return discrete_df, continuous_df, categorical_df\n",
    "\n",
    "discrete_df, continuous_df, categorical_df = filtering(df_copy)"
   ]
  },
  {
   "cell_type": "code",
   "execution_count": 62,
   "id": "adcb1bc0",
   "metadata": {},
   "outputs": [
    {
     "data": {
      "text/html": [
       "<div>\n",
       "<style scoped>\n",
       "    .dataframe tbody tr th:only-of-type {\n",
       "        vertical-align: middle;\n",
       "    }\n",
       "\n",
       "    .dataframe tbody tr th {\n",
       "        vertical-align: top;\n",
       "    }\n",
       "\n",
       "    .dataframe thead th {\n",
       "        text-align: right;\n",
       "    }\n",
       "</style>\n",
       "<table border=\"1\" class=\"dataframe\">\n",
       "  <thead>\n",
       "    <tr style=\"text-align: right;\">\n",
       "      <th></th>\n",
       "      <th>customer_lifetime_value</th>\n",
       "      <th>income</th>\n",
       "      <th>monthly_premium_auto</th>\n",
       "      <th>months_since_policy_inception</th>\n",
       "    </tr>\n",
       "  </thead>\n",
       "  <tbody>\n",
       "    <tr>\n",
       "      <th>0</th>\n",
       "      <td>2763.519279</td>\n",
       "      <td>56274.0</td>\n",
       "      <td>69.0</td>\n",
       "      <td>5.0</td>\n",
       "    </tr>\n",
       "    <tr>\n",
       "      <th>2</th>\n",
       "      <td>12887.431650</td>\n",
       "      <td>48767.0</td>\n",
       "      <td>108.0</td>\n",
       "      <td>38.0</td>\n",
       "    </tr>\n",
       "    <tr>\n",
       "      <th>3</th>\n",
       "      <td>7645.861827</td>\n",
       "      <td>0.0</td>\n",
       "      <td>106.0</td>\n",
       "      <td>65.0</td>\n",
       "    </tr>\n",
       "    <tr>\n",
       "      <th>4</th>\n",
       "      <td>2813.692575</td>\n",
       "      <td>43836.0</td>\n",
       "      <td>73.0</td>\n",
       "      <td>44.0</td>\n",
       "    </tr>\n",
       "    <tr>\n",
       "      <th>5</th>\n",
       "      <td>8256.297800</td>\n",
       "      <td>62902.0</td>\n",
       "      <td>69.0</td>\n",
       "      <td>94.0</td>\n",
       "    </tr>\n",
       "  </tbody>\n",
       "</table>\n",
       "</div>"
      ],
      "text/plain": [
       "   customer_lifetime_value   income  monthly_premium_auto  \\\n",
       "0              2763.519279  56274.0                  69.0   \n",
       "2             12887.431650  48767.0                 108.0   \n",
       "3              7645.861827      0.0                 106.0   \n",
       "4              2813.692575  43836.0                  73.0   \n",
       "5              8256.297800  62902.0                  69.0   \n",
       "\n",
       "   months_since_policy_inception  \n",
       "0                            5.0  \n",
       "2                           38.0  \n",
       "3                           65.0  \n",
       "4                           44.0  \n",
       "5                           94.0  "
      ]
     },
     "execution_count": 62,
     "metadata": {},
     "output_type": "execute_result"
    }
   ],
   "source": [
    "y = df_copy['total_claim_amount']\n",
    "#y = continuous_df['total_claim_amount']\n",
    "continuous_df = continuous_df.drop(['total_claim_amount'], axis = 1)\n",
    "continuous_df.head()"
   ]
  },
  {
   "cell_type": "code",
   "execution_count": 63,
   "id": "265b56a3",
   "metadata": {},
   "outputs": [],
   "source": [
    "from sklearn.preprocessing import MinMaxScaler"
   ]
  },
  {
   "cell_type": "code",
   "execution_count": 64,
   "id": "13e34f7e",
   "metadata": {},
   "outputs": [
    {
     "name": "stdout",
     "output_type": "stream",
     "text": [
      "(7847, 4)\n"
     ]
    },
    {
     "data": {
      "text/html": [
       "<div>\n",
       "<style scoped>\n",
       "    .dataframe tbody tr th:only-of-type {\n",
       "        vertical-align: middle;\n",
       "    }\n",
       "\n",
       "    .dataframe tbody tr th {\n",
       "        vertical-align: top;\n",
       "    }\n",
       "\n",
       "    .dataframe thead th {\n",
       "        text-align: right;\n",
       "    }\n",
       "</style>\n",
       "<table border=\"1\" class=\"dataframe\">\n",
       "  <thead>\n",
       "    <tr style=\"text-align: right;\">\n",
       "      <th></th>\n",
       "      <th>0</th>\n",
       "      <th>1</th>\n",
       "      <th>2</th>\n",
       "      <th>3</th>\n",
       "    </tr>\n",
       "  </thead>\n",
       "  <tbody>\n",
       "    <tr>\n",
       "      <th>0</th>\n",
       "      <td>0.059651</td>\n",
       "      <td>0.562847</td>\n",
       "      <td>0.073394</td>\n",
       "      <td>0.050505</td>\n",
       "    </tr>\n",
       "    <tr>\n",
       "      <th>1</th>\n",
       "      <td>0.757387</td>\n",
       "      <td>0.487763</td>\n",
       "      <td>0.431193</td>\n",
       "      <td>0.383838</td>\n",
       "    </tr>\n",
       "    <tr>\n",
       "      <th>2</th>\n",
       "      <td>0.396140</td>\n",
       "      <td>0.000000</td>\n",
       "      <td>0.412844</td>\n",
       "      <td>0.656566</td>\n",
       "    </tr>\n",
       "    <tr>\n",
       "      <th>3</th>\n",
       "      <td>0.063109</td>\n",
       "      <td>0.438443</td>\n",
       "      <td>0.110092</td>\n",
       "      <td>0.444444</td>\n",
       "    </tr>\n",
       "    <tr>\n",
       "      <th>4</th>\n",
       "      <td>0.438211</td>\n",
       "      <td>0.629140</td>\n",
       "      <td>0.073394</td>\n",
       "      <td>0.949495</td>\n",
       "    </tr>\n",
       "    <tr>\n",
       "      <th>...</th>\n",
       "      <td>...</td>\n",
       "      <td>...</td>\n",
       "      <td>...</td>\n",
       "      <td>...</td>\n",
       "    </tr>\n",
       "    <tr>\n",
       "      <th>7842</th>\n",
       "      <td>0.151788</td>\n",
       "      <td>0.477701</td>\n",
       "      <td>0.394495</td>\n",
       "      <td>0.585859</td>\n",
       "    </tr>\n",
       "    <tr>\n",
       "      <th>7843</th>\n",
       "      <td>0.082600</td>\n",
       "      <td>0.216081</td>\n",
       "      <td>0.165138</td>\n",
       "      <td>0.282828</td>\n",
       "    </tr>\n",
       "    <tr>\n",
       "      <th>7844</th>\n",
       "      <td>0.431842</td>\n",
       "      <td>0.000000</td>\n",
       "      <td>0.220183</td>\n",
       "      <td>0.373737</td>\n",
       "    </tr>\n",
       "    <tr>\n",
       "      <th>7845</th>\n",
       "      <td>0.387772</td>\n",
       "      <td>0.219452</td>\n",
       "      <td>0.321101</td>\n",
       "      <td>0.030303</td>\n",
       "    </tr>\n",
       "    <tr>\n",
       "      <th>7846</th>\n",
       "      <td>0.049197</td>\n",
       "      <td>0.000000</td>\n",
       "      <td>0.146789</td>\n",
       "      <td>0.909091</td>\n",
       "    </tr>\n",
       "  </tbody>\n",
       "</table>\n",
       "<p>7847 rows × 4 columns</p>\n",
       "</div>"
      ],
      "text/plain": [
       "             0         1         2         3\n",
       "0     0.059651  0.562847  0.073394  0.050505\n",
       "1     0.757387  0.487763  0.431193  0.383838\n",
       "2     0.396140  0.000000  0.412844  0.656566\n",
       "3     0.063109  0.438443  0.110092  0.444444\n",
       "4     0.438211  0.629140  0.073394  0.949495\n",
       "...        ...       ...       ...       ...\n",
       "7842  0.151788  0.477701  0.394495  0.585859\n",
       "7843  0.082600  0.216081  0.165138  0.282828\n",
       "7844  0.431842  0.000000  0.220183  0.373737\n",
       "7845  0.387772  0.219452  0.321101  0.030303\n",
       "7846  0.049197  0.000000  0.146789  0.909091\n",
       "\n",
       "[7847 rows x 4 columns]"
      ]
     },
     "execution_count": 64,
     "metadata": {},
     "output_type": "execute_result"
    }
   ],
   "source": [
    "transformer = MinMaxScaler().fit(continuous_df)\n",
    "x_normalized = transformer.transform(continuous_df)\n",
    "print(x_normalized.shape)\n",
    "#x_normalized\n",
    "pd.DataFrame(x_normalized, columns=continuous_df.columns)\n",
    "x_normalized = pd.DataFrame(x_normalized)\n",
    "x_normalized"
   ]
  },
  {
   "cell_type": "markdown",
   "id": "73195efb",
   "metadata": {},
   "source": [
    "### We also need to transform discrete data"
   ]
  },
  {
   "cell_type": "code",
   "execution_count": 65,
   "id": "8bb4e984",
   "metadata": {},
   "outputs": [
    {
     "data": {
      "text/html": [
       "<div>\n",
       "<style scoped>\n",
       "    .dataframe tbody tr th:only-of-type {\n",
       "        vertical-align: middle;\n",
       "    }\n",
       "\n",
       "    .dataframe tbody tr th {\n",
       "        vertical-align: top;\n",
       "    }\n",
       "\n",
       "    .dataframe thead th {\n",
       "        text-align: right;\n",
       "    }\n",
       "</style>\n",
       "<table border=\"1\" class=\"dataframe\">\n",
       "  <thead>\n",
       "    <tr style=\"text-align: right;\">\n",
       "      <th></th>\n",
       "      <th>months_since_last_claim</th>\n",
       "      <th>number_of_open_complaints</th>\n",
       "      <th>number_of_policies</th>\n",
       "      <th>year</th>\n",
       "      <th>month</th>\n",
       "      <th>day_week</th>\n",
       "    </tr>\n",
       "  </thead>\n",
       "  <tbody>\n",
       "    <tr>\n",
       "      <th>0</th>\n",
       "      <td>32</td>\n",
       "      <td>0</td>\n",
       "      <td>1</td>\n",
       "      <td>2011</td>\n",
       "      <td>2</td>\n",
       "      <td>24</td>\n",
       "    </tr>\n",
       "    <tr>\n",
       "      <th>2</th>\n",
       "      <td>18</td>\n",
       "      <td>0</td>\n",
       "      <td>2</td>\n",
       "      <td>2011</td>\n",
       "      <td>2</td>\n",
       "      <td>19</td>\n",
       "    </tr>\n",
       "    <tr>\n",
       "      <th>3</th>\n",
       "      <td>18</td>\n",
       "      <td>0</td>\n",
       "      <td>7</td>\n",
       "      <td>2011</td>\n",
       "      <td>1</td>\n",
       "      <td>20</td>\n",
       "    </tr>\n",
       "  </tbody>\n",
       "</table>\n",
       "</div>"
      ],
      "text/plain": [
       "   months_since_last_claim  number_of_open_complaints  number_of_policies  \\\n",
       "0                       32                          0                   1   \n",
       "2                       18                          0                   2   \n",
       "3                       18                          0                   7   \n",
       "\n",
       "   year  month  day_week  \n",
       "0  2011      2        24  \n",
       "2  2011      2        19  \n",
       "3  2011      1        20  "
      ]
     },
     "execution_count": 65,
     "metadata": {},
     "output_type": "execute_result"
    }
   ],
   "source": [
    "discrete_df.head(3)"
   ]
  },
  {
   "cell_type": "code",
   "execution_count": 66,
   "id": "6e734b7b",
   "metadata": {},
   "outputs": [
    {
     "name": "stdout",
     "output_type": "stream",
     "text": [
      "(7847, 6)\n"
     ]
    },
    {
     "data": {
      "text/html": [
       "<div>\n",
       "<style scoped>\n",
       "    .dataframe tbody tr th:only-of-type {\n",
       "        vertical-align: middle;\n",
       "    }\n",
       "\n",
       "    .dataframe tbody tr th {\n",
       "        vertical-align: top;\n",
       "    }\n",
       "\n",
       "    .dataframe thead th {\n",
       "        text-align: right;\n",
       "    }\n",
       "</style>\n",
       "<table border=\"1\" class=\"dataframe\">\n",
       "  <thead>\n",
       "    <tr style=\"text-align: right;\">\n",
       "      <th></th>\n",
       "      <th>0</th>\n",
       "      <th>1</th>\n",
       "      <th>2</th>\n",
       "      <th>3</th>\n",
       "      <th>4</th>\n",
       "      <th>5</th>\n",
       "    </tr>\n",
       "  </thead>\n",
       "  <tbody>\n",
       "    <tr>\n",
       "      <th>0</th>\n",
       "      <td>0.914286</td>\n",
       "      <td>0.0</td>\n",
       "      <td>0.000</td>\n",
       "      <td>0.0</td>\n",
       "      <td>1.0</td>\n",
       "      <td>0.766667</td>\n",
       "    </tr>\n",
       "    <tr>\n",
       "      <th>1</th>\n",
       "      <td>0.514286</td>\n",
       "      <td>0.0</td>\n",
       "      <td>0.125</td>\n",
       "      <td>0.0</td>\n",
       "      <td>1.0</td>\n",
       "      <td>0.600000</td>\n",
       "    </tr>\n",
       "    <tr>\n",
       "      <th>2</th>\n",
       "      <td>0.514286</td>\n",
       "      <td>0.0</td>\n",
       "      <td>0.750</td>\n",
       "      <td>0.0</td>\n",
       "      <td>0.0</td>\n",
       "      <td>0.633333</td>\n",
       "    </tr>\n",
       "    <tr>\n",
       "      <th>3</th>\n",
       "      <td>0.342857</td>\n",
       "      <td>0.0</td>\n",
       "      <td>0.000</td>\n",
       "      <td>0.0</td>\n",
       "      <td>1.0</td>\n",
       "      <td>0.066667</td>\n",
       "    </tr>\n",
       "    <tr>\n",
       "      <th>4</th>\n",
       "      <td>0.400000</td>\n",
       "      <td>0.0</td>\n",
       "      <td>0.125</td>\n",
       "      <td>0.0</td>\n",
       "      <td>0.0</td>\n",
       "      <td>0.800000</td>\n",
       "    </tr>\n",
       "    <tr>\n",
       "      <th>...</th>\n",
       "      <td>...</td>\n",
       "      <td>...</td>\n",
       "      <td>...</td>\n",
       "      <td>...</td>\n",
       "      <td>...</td>\n",
       "      <td>...</td>\n",
       "    </tr>\n",
       "    <tr>\n",
       "      <th>7842</th>\n",
       "      <td>0.457143</td>\n",
       "      <td>0.0</td>\n",
       "      <td>0.000</td>\n",
       "      <td>0.0</td>\n",
       "      <td>0.0</td>\n",
       "      <td>0.166667</td>\n",
       "    </tr>\n",
       "    <tr>\n",
       "      <th>7843</th>\n",
       "      <td>0.400000</td>\n",
       "      <td>0.0</td>\n",
       "      <td>0.000</td>\n",
       "      <td>0.0</td>\n",
       "      <td>1.0</td>\n",
       "      <td>0.366667</td>\n",
       "    </tr>\n",
       "    <tr>\n",
       "      <th>7844</th>\n",
       "      <td>0.257143</td>\n",
       "      <td>0.6</td>\n",
       "      <td>0.125</td>\n",
       "      <td>0.0</td>\n",
       "      <td>1.0</td>\n",
       "      <td>0.166667</td>\n",
       "    </tr>\n",
       "    <tr>\n",
       "      <th>7845</th>\n",
       "      <td>0.971429</td>\n",
       "      <td>0.0</td>\n",
       "      <td>0.250</td>\n",
       "      <td>0.0</td>\n",
       "      <td>1.0</td>\n",
       "      <td>0.066667</td>\n",
       "    </tr>\n",
       "    <tr>\n",
       "      <th>7846</th>\n",
       "      <td>0.085714</td>\n",
       "      <td>0.0</td>\n",
       "      <td>0.000</td>\n",
       "      <td>0.0</td>\n",
       "      <td>1.0</td>\n",
       "      <td>0.433333</td>\n",
       "    </tr>\n",
       "  </tbody>\n",
       "</table>\n",
       "<p>7847 rows × 6 columns</p>\n",
       "</div>"
      ],
      "text/plain": [
       "             0    1      2    3    4         5\n",
       "0     0.914286  0.0  0.000  0.0  1.0  0.766667\n",
       "1     0.514286  0.0  0.125  0.0  1.0  0.600000\n",
       "2     0.514286  0.0  0.750  0.0  0.0  0.633333\n",
       "3     0.342857  0.0  0.000  0.0  1.0  0.066667\n",
       "4     0.400000  0.0  0.125  0.0  0.0  0.800000\n",
       "...        ...  ...    ...  ...  ...       ...\n",
       "7842  0.457143  0.0  0.000  0.0  0.0  0.166667\n",
       "7843  0.400000  0.0  0.000  0.0  1.0  0.366667\n",
       "7844  0.257143  0.6  0.125  0.0  1.0  0.166667\n",
       "7845  0.971429  0.0  0.250  0.0  1.0  0.066667\n",
       "7846  0.085714  0.0  0.000  0.0  1.0  0.433333\n",
       "\n",
       "[7847 rows x 6 columns]"
      ]
     },
     "execution_count": 66,
     "metadata": {},
     "output_type": "execute_result"
    }
   ],
   "source": [
    "transformer_dis = MinMaxScaler().fit(discrete_df)\n",
    "x_normalized_2 = transformer_dis.transform(discrete_df)\n",
    "print(x_normalized_2.shape)\n",
    "#x_normalized\n",
    "pd.DataFrame(x_normalized_2, columns=discrete_df.columns)\n",
    "x_normalized_2 = pd.DataFrame(x_normalized_2)\n",
    "x_normalized_2"
   ]
  },
  {
   "cell_type": "code",
   "execution_count": 67,
   "id": "9ece57fb",
   "metadata": {},
   "outputs": [
    {
     "data": {
      "text/html": [
       "<div>\n",
       "<style scoped>\n",
       "    .dataframe tbody tr th:only-of-type {\n",
       "        vertical-align: middle;\n",
       "    }\n",
       "\n",
       "    .dataframe tbody tr th {\n",
       "        vertical-align: top;\n",
       "    }\n",
       "\n",
       "    .dataframe thead th {\n",
       "        text-align: right;\n",
       "    }\n",
       "</style>\n",
       "<table border=\"1\" class=\"dataframe\">\n",
       "  <thead>\n",
       "    <tr style=\"text-align: right;\">\n",
       "      <th></th>\n",
       "      <th>0</th>\n",
       "      <th>1</th>\n",
       "      <th>2</th>\n",
       "      <th>3</th>\n",
       "      <th>0</th>\n",
       "      <th>1</th>\n",
       "      <th>2</th>\n",
       "      <th>3</th>\n",
       "      <th>4</th>\n",
       "      <th>5</th>\n",
       "    </tr>\n",
       "  </thead>\n",
       "  <tbody>\n",
       "    <tr>\n",
       "      <th>0</th>\n",
       "      <td>0.059651</td>\n",
       "      <td>0.562847</td>\n",
       "      <td>0.073394</td>\n",
       "      <td>0.050505</td>\n",
       "      <td>0.914286</td>\n",
       "      <td>0.0</td>\n",
       "      <td>0.000</td>\n",
       "      <td>0.0</td>\n",
       "      <td>1.0</td>\n",
       "      <td>0.766667</td>\n",
       "    </tr>\n",
       "    <tr>\n",
       "      <th>1</th>\n",
       "      <td>0.757387</td>\n",
       "      <td>0.487763</td>\n",
       "      <td>0.431193</td>\n",
       "      <td>0.383838</td>\n",
       "      <td>0.514286</td>\n",
       "      <td>0.0</td>\n",
       "      <td>0.125</td>\n",
       "      <td>0.0</td>\n",
       "      <td>1.0</td>\n",
       "      <td>0.600000</td>\n",
       "    </tr>\n",
       "    <tr>\n",
       "      <th>2</th>\n",
       "      <td>0.396140</td>\n",
       "      <td>0.000000</td>\n",
       "      <td>0.412844</td>\n",
       "      <td>0.656566</td>\n",
       "      <td>0.514286</td>\n",
       "      <td>0.0</td>\n",
       "      <td>0.750</td>\n",
       "      <td>0.0</td>\n",
       "      <td>0.0</td>\n",
       "      <td>0.633333</td>\n",
       "    </tr>\n",
       "    <tr>\n",
       "      <th>3</th>\n",
       "      <td>0.063109</td>\n",
       "      <td>0.438443</td>\n",
       "      <td>0.110092</td>\n",
       "      <td>0.444444</td>\n",
       "      <td>0.342857</td>\n",
       "      <td>0.0</td>\n",
       "      <td>0.000</td>\n",
       "      <td>0.0</td>\n",
       "      <td>1.0</td>\n",
       "      <td>0.066667</td>\n",
       "    </tr>\n",
       "    <tr>\n",
       "      <th>4</th>\n",
       "      <td>0.438211</td>\n",
       "      <td>0.629140</td>\n",
       "      <td>0.073394</td>\n",
       "      <td>0.949495</td>\n",
       "      <td>0.400000</td>\n",
       "      <td>0.0</td>\n",
       "      <td>0.125</td>\n",
       "      <td>0.0</td>\n",
       "      <td>0.0</td>\n",
       "      <td>0.800000</td>\n",
       "    </tr>\n",
       "    <tr>\n",
       "      <th>...</th>\n",
       "      <td>...</td>\n",
       "      <td>...</td>\n",
       "      <td>...</td>\n",
       "      <td>...</td>\n",
       "      <td>...</td>\n",
       "      <td>...</td>\n",
       "      <td>...</td>\n",
       "      <td>...</td>\n",
       "      <td>...</td>\n",
       "      <td>...</td>\n",
       "    </tr>\n",
       "    <tr>\n",
       "      <th>7842</th>\n",
       "      <td>0.151788</td>\n",
       "      <td>0.477701</td>\n",
       "      <td>0.394495</td>\n",
       "      <td>0.585859</td>\n",
       "      <td>0.457143</td>\n",
       "      <td>0.0</td>\n",
       "      <td>0.000</td>\n",
       "      <td>0.0</td>\n",
       "      <td>0.0</td>\n",
       "      <td>0.166667</td>\n",
       "    </tr>\n",
       "    <tr>\n",
       "      <th>7843</th>\n",
       "      <td>0.082600</td>\n",
       "      <td>0.216081</td>\n",
       "      <td>0.165138</td>\n",
       "      <td>0.282828</td>\n",
       "      <td>0.400000</td>\n",
       "      <td>0.0</td>\n",
       "      <td>0.000</td>\n",
       "      <td>0.0</td>\n",
       "      <td>1.0</td>\n",
       "      <td>0.366667</td>\n",
       "    </tr>\n",
       "    <tr>\n",
       "      <th>7844</th>\n",
       "      <td>0.431842</td>\n",
       "      <td>0.000000</td>\n",
       "      <td>0.220183</td>\n",
       "      <td>0.373737</td>\n",
       "      <td>0.257143</td>\n",
       "      <td>0.6</td>\n",
       "      <td>0.125</td>\n",
       "      <td>0.0</td>\n",
       "      <td>1.0</td>\n",
       "      <td>0.166667</td>\n",
       "    </tr>\n",
       "    <tr>\n",
       "      <th>7845</th>\n",
       "      <td>0.387772</td>\n",
       "      <td>0.219452</td>\n",
       "      <td>0.321101</td>\n",
       "      <td>0.030303</td>\n",
       "      <td>0.971429</td>\n",
       "      <td>0.0</td>\n",
       "      <td>0.250</td>\n",
       "      <td>0.0</td>\n",
       "      <td>1.0</td>\n",
       "      <td>0.066667</td>\n",
       "    </tr>\n",
       "    <tr>\n",
       "      <th>7846</th>\n",
       "      <td>0.049197</td>\n",
       "      <td>0.000000</td>\n",
       "      <td>0.146789</td>\n",
       "      <td>0.909091</td>\n",
       "      <td>0.085714</td>\n",
       "      <td>0.0</td>\n",
       "      <td>0.000</td>\n",
       "      <td>0.0</td>\n",
       "      <td>1.0</td>\n",
       "      <td>0.433333</td>\n",
       "    </tr>\n",
       "  </tbody>\n",
       "</table>\n",
       "<p>7847 rows × 10 columns</p>\n",
       "</div>"
      ],
      "text/plain": [
       "             0         1         2         3         0    1      2    3    4  \\\n",
       "0     0.059651  0.562847  0.073394  0.050505  0.914286  0.0  0.000  0.0  1.0   \n",
       "1     0.757387  0.487763  0.431193  0.383838  0.514286  0.0  0.125  0.0  1.0   \n",
       "2     0.396140  0.000000  0.412844  0.656566  0.514286  0.0  0.750  0.0  0.0   \n",
       "3     0.063109  0.438443  0.110092  0.444444  0.342857  0.0  0.000  0.0  1.0   \n",
       "4     0.438211  0.629140  0.073394  0.949495  0.400000  0.0  0.125  0.0  0.0   \n",
       "...        ...       ...       ...       ...       ...  ...    ...  ...  ...   \n",
       "7842  0.151788  0.477701  0.394495  0.585859  0.457143  0.0  0.000  0.0  0.0   \n",
       "7843  0.082600  0.216081  0.165138  0.282828  0.400000  0.0  0.000  0.0  1.0   \n",
       "7844  0.431842  0.000000  0.220183  0.373737  0.257143  0.6  0.125  0.0  1.0   \n",
       "7845  0.387772  0.219452  0.321101  0.030303  0.971429  0.0  0.250  0.0  1.0   \n",
       "7846  0.049197  0.000000  0.146789  0.909091  0.085714  0.0  0.000  0.0  1.0   \n",
       "\n",
       "             5  \n",
       "0     0.766667  \n",
       "1     0.600000  \n",
       "2     0.633333  \n",
       "3     0.066667  \n",
       "4     0.800000  \n",
       "...        ...  \n",
       "7842  0.166667  \n",
       "7843  0.366667  \n",
       "7844  0.166667  \n",
       "7845  0.066667  \n",
       "7846  0.433333  \n",
       "\n",
       "[7847 rows x 10 columns]"
      ]
     },
     "execution_count": 67,
     "metadata": {},
     "output_type": "execute_result"
    }
   ],
   "source": [
    "numeric = pd.concat([x_normalized, x_normalized_2], axis = 1)\n",
    "numeric"
   ]
  },
  {
   "cell_type": "markdown",
   "id": "79557d63",
   "metadata": {},
   "source": [
    "## 5. Encode the categorical variables"
   ]
  },
  {
   "cell_type": "code",
   "execution_count": 68,
   "id": "b448aec6",
   "metadata": {},
   "outputs": [
    {
     "data": {
      "text/html": [
       "<div>\n",
       "<style scoped>\n",
       "    .dataframe tbody tr th:only-of-type {\n",
       "        vertical-align: middle;\n",
       "    }\n",
       "\n",
       "    .dataframe tbody tr th {\n",
       "        vertical-align: top;\n",
       "    }\n",
       "\n",
       "    .dataframe thead th {\n",
       "        text-align: right;\n",
       "    }\n",
       "</style>\n",
       "<table border=\"1\" class=\"dataframe\">\n",
       "  <thead>\n",
       "    <tr style=\"text-align: right;\">\n",
       "      <th></th>\n",
       "      <th>state</th>\n",
       "      <th>response</th>\n",
       "      <th>coverage</th>\n",
       "      <th>education</th>\n",
       "      <th>employment_status</th>\n",
       "      <th>gender</th>\n",
       "      <th>location_code</th>\n",
       "      <th>marital_status</th>\n",
       "      <th>policy_type</th>\n",
       "      <th>renew_offer_type</th>\n",
       "      <th>sales_channel</th>\n",
       "      <th>vehicle_class</th>\n",
       "      <th>vehicle_size</th>\n",
       "    </tr>\n",
       "  </thead>\n",
       "  <tbody>\n",
       "    <tr>\n",
       "      <th>0</th>\n",
       "      <td>Washington</td>\n",
       "      <td>No</td>\n",
       "      <td>Basic</td>\n",
       "      <td>Bachelor</td>\n",
       "      <td>Employed</td>\n",
       "      <td>F</td>\n",
       "      <td>Suburban</td>\n",
       "      <td>Married</td>\n",
       "      <td>Corporate Auto</td>\n",
       "      <td>Offer1</td>\n",
       "      <td>Agent</td>\n",
       "      <td>Two-Door Car</td>\n",
       "      <td>Medsize</td>\n",
       "    </tr>\n",
       "    <tr>\n",
       "      <th>2</th>\n",
       "      <td>Nevada</td>\n",
       "      <td>No</td>\n",
       "      <td>Premium</td>\n",
       "      <td>Bachelor</td>\n",
       "      <td>Employed</td>\n",
       "      <td>F</td>\n",
       "      <td>Suburban</td>\n",
       "      <td>Married</td>\n",
       "      <td>Personal Auto</td>\n",
       "      <td>Offer1</td>\n",
       "      <td>Agent</td>\n",
       "      <td>Two-Door Car</td>\n",
       "      <td>Medsize</td>\n",
       "    </tr>\n",
       "    <tr>\n",
       "      <th>3</th>\n",
       "      <td>California</td>\n",
       "      <td>No</td>\n",
       "      <td>Basic</td>\n",
       "      <td>Bachelor</td>\n",
       "      <td>Unemployed</td>\n",
       "      <td>M</td>\n",
       "      <td>Suburban</td>\n",
       "      <td>Married</td>\n",
       "      <td>Corporate Auto</td>\n",
       "      <td>Offer1</td>\n",
       "      <td>Call Center</td>\n",
       "      <td>SUV</td>\n",
       "      <td>Medsize</td>\n",
       "    </tr>\n",
       "  </tbody>\n",
       "</table>\n",
       "</div>"
      ],
      "text/plain": [
       "        state response coverage education employment_status gender  \\\n",
       "0  Washington       No    Basic  Bachelor          Employed      F   \n",
       "2      Nevada       No  Premium  Bachelor          Employed      F   \n",
       "3  California       No    Basic  Bachelor        Unemployed      M   \n",
       "\n",
       "  location_code marital_status     policy_type renew_offer_type sales_channel  \\\n",
       "0      Suburban        Married  Corporate Auto           Offer1         Agent   \n",
       "2      Suburban        Married   Personal Auto           Offer1         Agent   \n",
       "3      Suburban        Married  Corporate Auto           Offer1   Call Center   \n",
       "\n",
       "  vehicle_class vehicle_size  \n",
       "0  Two-Door Car      Medsize  \n",
       "2  Two-Door Car      Medsize  \n",
       "3           SUV      Medsize  "
      ]
     },
     "execution_count": 68,
     "metadata": {},
     "output_type": "execute_result"
    }
   ],
   "source": [
    "categorical_df.head(3)"
   ]
  },
  {
   "cell_type": "code",
   "execution_count": 69,
   "id": "28cd8a73",
   "metadata": {},
   "outputs": [
    {
     "data": {
      "text/plain": [
       "Employed      4973\n",
       "Unemployed    2874\n",
       "Name: employment_status, dtype: int64"
      ]
     },
     "execution_count": 69,
     "metadata": {},
     "output_type": "execute_result"
    }
   ],
   "source": [
    "categorical_df[\"employment_status\"].value_counts() "
   ]
  },
  {
   "cell_type": "code",
   "execution_count": 70,
   "id": "c6601349",
   "metadata": {},
   "outputs": [
    {
     "data": {
      "text/plain": [
       "Suburban    4857\n",
       "Rural       1576\n",
       "Urban       1414\n",
       "Name: location_code, dtype: int64"
      ]
     },
     "execution_count": 70,
     "metadata": {},
     "output_type": "execute_result"
    }
   ],
   "source": [
    "categorical_df[\"location_code\"].value_counts() "
   ]
  },
  {
   "cell_type": "code",
   "execution_count": 71,
   "id": "a2bb617a",
   "metadata": {},
   "outputs": [
    {
     "data": {
      "text/plain": [
       "Medsize    5519\n",
       "Small      1504\n",
       "Large       824\n",
       "Name: vehicle_size, dtype: int64"
      ]
     },
     "execution_count": 71,
     "metadata": {},
     "output_type": "execute_result"
    }
   ],
   "source": [
    "categorical_df[\"vehicle_size\"].value_counts() "
   ]
  },
  {
   "cell_type": "code",
   "execution_count": 72,
   "id": "ba5b7784",
   "metadata": {},
   "outputs": [],
   "source": [
    "import warnings\n",
    "warnings.filterwarnings('ignore')\n",
    "\n",
    "categorical_df[\"coverage\"] = categorical_df[\"coverage\"].map({\"Basic\" : 0, \"Extended\" : 1, \"Premium\" : 2})\n",
    "# categorical_df[\"employment_status\"] = categorical_df[\"employment_status\"].map({\"Unemployed\" : 0, \"Employed\" : 1})\n",
    "# categorical_df[\"location_code\"] = categorical_df[\"location_code\"].map({\"Rural\" : 0, \"Suburban\" : 1, \"Urban\" : 2})\n",
    "# categorical_df[\"vehicle_size\"] = categorical_df[\"vehicle_size\"].map({\"Small\" : 0, \"Medsize\" : 1, \"Large\" : 2})"
   ]
  },
  {
   "cell_type": "code",
   "execution_count": 73,
   "id": "49842eb1",
   "metadata": {},
   "outputs": [],
   "source": [
    "categorical_df[\"employment_status\"] = categorical_df[\"employment_status\"].map({\"Unemployed\" : 0, \"Employed\" : 1})"
   ]
  },
  {
   "cell_type": "code",
   "execution_count": 74,
   "id": "24eebeef",
   "metadata": {},
   "outputs": [],
   "source": [
    "categorical_df[\"location_code\"] = categorical_df[\"location_code\"].map({\"Rural\" : 0, \"Suburban\" : 1, \"Urban\" : 2})"
   ]
  },
  {
   "cell_type": "code",
   "execution_count": 75,
   "id": "2ef816e2",
   "metadata": {},
   "outputs": [],
   "source": [
    "categorical_df[\"vehicle_size\"] = categorical_df[\"vehicle_size\"].map({\"Small\" : 0, \"Medsize\" : 1, \"Large\" : 2})"
   ]
  },
  {
   "cell_type": "code",
   "execution_count": 76,
   "id": "c785ec2b",
   "metadata": {},
   "outputs": [
    {
     "data": {
      "text/html": [
       "<div>\n",
       "<style scoped>\n",
       "    .dataframe tbody tr th:only-of-type {\n",
       "        vertical-align: middle;\n",
       "    }\n",
       "\n",
       "    .dataframe tbody tr th {\n",
       "        vertical-align: top;\n",
       "    }\n",
       "\n",
       "    .dataframe thead th {\n",
       "        text-align: right;\n",
       "    }\n",
       "</style>\n",
       "<table border=\"1\" class=\"dataframe\">\n",
       "  <thead>\n",
       "    <tr style=\"text-align: right;\">\n",
       "      <th></th>\n",
       "      <th>coverage</th>\n",
       "      <th>employment_status</th>\n",
       "      <th>location_code</th>\n",
       "      <th>vehicle_size</th>\n",
       "    </tr>\n",
       "  </thead>\n",
       "  <tbody>\n",
       "    <tr>\n",
       "      <th>0</th>\n",
       "      <td>0</td>\n",
       "      <td>1</td>\n",
       "      <td>1</td>\n",
       "      <td>1</td>\n",
       "    </tr>\n",
       "    <tr>\n",
       "      <th>2</th>\n",
       "      <td>2</td>\n",
       "      <td>1</td>\n",
       "      <td>1</td>\n",
       "      <td>1</td>\n",
       "    </tr>\n",
       "    <tr>\n",
       "      <th>3</th>\n",
       "      <td>0</td>\n",
       "      <td>0</td>\n",
       "      <td>1</td>\n",
       "      <td>1</td>\n",
       "    </tr>\n",
       "    <tr>\n",
       "      <th>4</th>\n",
       "      <td>0</td>\n",
       "      <td>1</td>\n",
       "      <td>0</td>\n",
       "      <td>1</td>\n",
       "    </tr>\n",
       "    <tr>\n",
       "      <th>5</th>\n",
       "      <td>0</td>\n",
       "      <td>1</td>\n",
       "      <td>0</td>\n",
       "      <td>1</td>\n",
       "    </tr>\n",
       "    <tr>\n",
       "      <th>...</th>\n",
       "      <td>...</td>\n",
       "      <td>...</td>\n",
       "      <td>...</td>\n",
       "      <td>...</td>\n",
       "    </tr>\n",
       "    <tr>\n",
       "      <th>9128</th>\n",
       "      <td>2</td>\n",
       "      <td>1</td>\n",
       "      <td>1</td>\n",
       "      <td>2</td>\n",
       "    </tr>\n",
       "    <tr>\n",
       "      <th>9130</th>\n",
       "      <td>1</td>\n",
       "      <td>1</td>\n",
       "      <td>1</td>\n",
       "      <td>1</td>\n",
       "    </tr>\n",
       "    <tr>\n",
       "      <th>9131</th>\n",
       "      <td>1</td>\n",
       "      <td>0</td>\n",
       "      <td>1</td>\n",
       "      <td>1</td>\n",
       "    </tr>\n",
       "    <tr>\n",
       "      <th>9132</th>\n",
       "      <td>1</td>\n",
       "      <td>1</td>\n",
       "      <td>1</td>\n",
       "      <td>2</td>\n",
       "    </tr>\n",
       "    <tr>\n",
       "      <th>9133</th>\n",
       "      <td>1</td>\n",
       "      <td>0</td>\n",
       "      <td>1</td>\n",
       "      <td>1</td>\n",
       "    </tr>\n",
       "  </tbody>\n",
       "</table>\n",
       "<p>7847 rows × 4 columns</p>\n",
       "</div>"
      ],
      "text/plain": [
       "      coverage  employment_status  location_code  vehicle_size\n",
       "0            0                  1              1             1\n",
       "2            2                  1              1             1\n",
       "3            0                  0              1             1\n",
       "4            0                  1              0             1\n",
       "5            0                  1              0             1\n",
       "...        ...                ...            ...           ...\n",
       "9128         2                  1              1             2\n",
       "9130         1                  1              1             1\n",
       "9131         1                  0              1             1\n",
       "9132         1                  1              1             2\n",
       "9133         1                  0              1             1\n",
       "\n",
       "[7847 rows x 4 columns]"
      ]
     },
     "execution_count": 76,
     "metadata": {},
     "output_type": "execute_result"
    }
   ],
   "source": [
    "categorical_map = categorical_df[['coverage','employment_status', 'location_code', 'vehicle_size' ]]\n",
    "categorical_map"
   ]
  },
  {
   "cell_type": "code",
   "execution_count": 77,
   "id": "3c351ae1",
   "metadata": {},
   "outputs": [
    {
     "data": {
      "text/html": [
       "<div>\n",
       "<style scoped>\n",
       "    .dataframe tbody tr th:only-of-type {\n",
       "        vertical-align: middle;\n",
       "    }\n",
       "\n",
       "    .dataframe tbody tr th {\n",
       "        vertical-align: top;\n",
       "    }\n",
       "\n",
       "    .dataframe thead th {\n",
       "        text-align: right;\n",
       "    }\n",
       "</style>\n",
       "<table border=\"1\" class=\"dataframe\">\n",
       "  <thead>\n",
       "    <tr style=\"text-align: right;\">\n",
       "      <th></th>\n",
       "      <th>state</th>\n",
       "      <th>response</th>\n",
       "      <th>education</th>\n",
       "      <th>gender</th>\n",
       "      <th>marital_status</th>\n",
       "      <th>policy_type</th>\n",
       "      <th>renew_offer_type</th>\n",
       "      <th>sales_channel</th>\n",
       "      <th>vehicle_class</th>\n",
       "    </tr>\n",
       "  </thead>\n",
       "  <tbody>\n",
       "    <tr>\n",
       "      <th>0</th>\n",
       "      <td>Washington</td>\n",
       "      <td>No</td>\n",
       "      <td>Bachelor</td>\n",
       "      <td>F</td>\n",
       "      <td>Married</td>\n",
       "      <td>Corporate Auto</td>\n",
       "      <td>Offer1</td>\n",
       "      <td>Agent</td>\n",
       "      <td>Two-Door Car</td>\n",
       "    </tr>\n",
       "    <tr>\n",
       "      <th>2</th>\n",
       "      <td>Nevada</td>\n",
       "      <td>No</td>\n",
       "      <td>Bachelor</td>\n",
       "      <td>F</td>\n",
       "      <td>Married</td>\n",
       "      <td>Personal Auto</td>\n",
       "      <td>Offer1</td>\n",
       "      <td>Agent</td>\n",
       "      <td>Two-Door Car</td>\n",
       "    </tr>\n",
       "    <tr>\n",
       "      <th>3</th>\n",
       "      <td>California</td>\n",
       "      <td>No</td>\n",
       "      <td>Bachelor</td>\n",
       "      <td>M</td>\n",
       "      <td>Married</td>\n",
       "      <td>Corporate Auto</td>\n",
       "      <td>Offer1</td>\n",
       "      <td>Call Center</td>\n",
       "      <td>SUV</td>\n",
       "    </tr>\n",
       "    <tr>\n",
       "      <th>4</th>\n",
       "      <td>Washington</td>\n",
       "      <td>No</td>\n",
       "      <td>Bachelor</td>\n",
       "      <td>M</td>\n",
       "      <td>Single</td>\n",
       "      <td>Personal Auto</td>\n",
       "      <td>Offer1</td>\n",
       "      <td>Agent</td>\n",
       "      <td>Four-Door Car</td>\n",
       "    </tr>\n",
       "    <tr>\n",
       "      <th>5</th>\n",
       "      <td>Oregon</td>\n",
       "      <td>Yes</td>\n",
       "      <td>Bachelor</td>\n",
       "      <td>F</td>\n",
       "      <td>Married</td>\n",
       "      <td>Personal Auto</td>\n",
       "      <td>Offer2</td>\n",
       "      <td>Web</td>\n",
       "      <td>Two-Door Car</td>\n",
       "    </tr>\n",
       "    <tr>\n",
       "      <th>...</th>\n",
       "      <td>...</td>\n",
       "      <td>...</td>\n",
       "      <td>...</td>\n",
       "      <td>...</td>\n",
       "      <td>...</td>\n",
       "      <td>...</td>\n",
       "      <td>...</td>\n",
       "      <td>...</td>\n",
       "      <td>...</td>\n",
       "    </tr>\n",
       "    <tr>\n",
       "      <th>9128</th>\n",
       "      <td>California</td>\n",
       "      <td>No</td>\n",
       "      <td>College</td>\n",
       "      <td>F</td>\n",
       "      <td>Single</td>\n",
       "      <td>Personal Auto</td>\n",
       "      <td>Offer1</td>\n",
       "      <td>Branch</td>\n",
       "      <td>Four-Door Car</td>\n",
       "    </tr>\n",
       "    <tr>\n",
       "      <th>9130</th>\n",
       "      <td>California</td>\n",
       "      <td>Yes</td>\n",
       "      <td>College</td>\n",
       "      <td>F</td>\n",
       "      <td>Divorced</td>\n",
       "      <td>Corporate Auto</td>\n",
       "      <td>Offer1</td>\n",
       "      <td>Branch</td>\n",
       "      <td>Four-Door Car</td>\n",
       "    </tr>\n",
       "    <tr>\n",
       "      <th>9131</th>\n",
       "      <td>California</td>\n",
       "      <td>No</td>\n",
       "      <td>Bachelor</td>\n",
       "      <td>M</td>\n",
       "      <td>Single</td>\n",
       "      <td>Corporate Auto</td>\n",
       "      <td>Offer1</td>\n",
       "      <td>Branch</td>\n",
       "      <td>Four-Door Car</td>\n",
       "    </tr>\n",
       "    <tr>\n",
       "      <th>9132</th>\n",
       "      <td>California</td>\n",
       "      <td>No</td>\n",
       "      <td>College</td>\n",
       "      <td>M</td>\n",
       "      <td>Married</td>\n",
       "      <td>Personal Auto</td>\n",
       "      <td>Offer3</td>\n",
       "      <td>Branch</td>\n",
       "      <td>Four-Door Car</td>\n",
       "    </tr>\n",
       "    <tr>\n",
       "      <th>9133</th>\n",
       "      <td>California</td>\n",
       "      <td>No</td>\n",
       "      <td>College</td>\n",
       "      <td>M</td>\n",
       "      <td>Single</td>\n",
       "      <td>Corporate Auto</td>\n",
       "      <td>Offer4</td>\n",
       "      <td>Call Center</td>\n",
       "      <td>Two-Door Car</td>\n",
       "    </tr>\n",
       "  </tbody>\n",
       "</table>\n",
       "<p>7847 rows × 9 columns</p>\n",
       "</div>"
      ],
      "text/plain": [
       "           state response education gender marital_status     policy_type  \\\n",
       "0     Washington       No  Bachelor      F        Married  Corporate Auto   \n",
       "2         Nevada       No  Bachelor      F        Married   Personal Auto   \n",
       "3     California       No  Bachelor      M        Married  Corporate Auto   \n",
       "4     Washington       No  Bachelor      M         Single   Personal Auto   \n",
       "5         Oregon      Yes  Bachelor      F        Married   Personal Auto   \n",
       "...          ...      ...       ...    ...            ...             ...   \n",
       "9128  California       No   College      F         Single   Personal Auto   \n",
       "9130  California      Yes   College      F       Divorced  Corporate Auto   \n",
       "9131  California       No  Bachelor      M         Single  Corporate Auto   \n",
       "9132  California       No   College      M        Married   Personal Auto   \n",
       "9133  California       No   College      M         Single  Corporate Auto   \n",
       "\n",
       "     renew_offer_type sales_channel  vehicle_class  \n",
       "0              Offer1         Agent   Two-Door Car  \n",
       "2              Offer1         Agent   Two-Door Car  \n",
       "3              Offer1   Call Center            SUV  \n",
       "4              Offer1         Agent  Four-Door Car  \n",
       "5              Offer2           Web   Two-Door Car  \n",
       "...               ...           ...            ...  \n",
       "9128           Offer1        Branch  Four-Door Car  \n",
       "9130           Offer1        Branch  Four-Door Car  \n",
       "9131           Offer1        Branch  Four-Door Car  \n",
       "9132           Offer3        Branch  Four-Door Car  \n",
       "9133           Offer4   Call Center   Two-Door Car  \n",
       "\n",
       "[7847 rows x 9 columns]"
      ]
     },
     "execution_count": 77,
     "metadata": {},
     "output_type": "execute_result"
    }
   ],
   "source": [
    "#we don't have to apply OneHotEncoder for this 'map' columns\n",
    "categorical_OHE = categorical_df.drop(['coverage','employment_status', 'location_code', 'vehicle_size' ],axis=1)\n",
    "categorical_OHE"
   ]
  },
  {
   "cell_type": "code",
   "execution_count": 78,
   "id": "e4ac2595",
   "metadata": {},
   "outputs": [
    {
     "data": {
      "text/html": [
       "<div>\n",
       "<style scoped>\n",
       "    .dataframe tbody tr th:only-of-type {\n",
       "        vertical-align: middle;\n",
       "    }\n",
       "\n",
       "    .dataframe tbody tr th {\n",
       "        vertical-align: top;\n",
       "    }\n",
       "\n",
       "    .dataframe thead th {\n",
       "        text-align: right;\n",
       "    }\n",
       "</style>\n",
       "<table border=\"1\" class=\"dataframe\">\n",
       "  <thead>\n",
       "    <tr style=\"text-align: right;\">\n",
       "      <th></th>\n",
       "      <th>California</th>\n",
       "      <th>Nevada</th>\n",
       "      <th>Oregon</th>\n",
       "      <th>Washington</th>\n",
       "      <th>Yes</th>\n",
       "      <th>College</th>\n",
       "      <th>High School or Below</th>\n",
       "      <th>High-level-degree</th>\n",
       "      <th>M</th>\n",
       "      <th>Married</th>\n",
       "      <th>...</th>\n",
       "      <th>Special Auto</th>\n",
       "      <th>Offer2</th>\n",
       "      <th>Offer3</th>\n",
       "      <th>Offer4</th>\n",
       "      <th>Branch</th>\n",
       "      <th>Call Center</th>\n",
       "      <th>Web</th>\n",
       "      <th>Luxury-Sport</th>\n",
       "      <th>SUV</th>\n",
       "      <th>Two-Door Car</th>\n",
       "    </tr>\n",
       "  </thead>\n",
       "  <tbody>\n",
       "    <tr>\n",
       "      <th>0</th>\n",
       "      <td>0.0</td>\n",
       "      <td>0.0</td>\n",
       "      <td>0.0</td>\n",
       "      <td>1.0</td>\n",
       "      <td>0.0</td>\n",
       "      <td>0.0</td>\n",
       "      <td>0.0</td>\n",
       "      <td>0.0</td>\n",
       "      <td>0.0</td>\n",
       "      <td>1.0</td>\n",
       "      <td>...</td>\n",
       "      <td>0.0</td>\n",
       "      <td>0.0</td>\n",
       "      <td>0.0</td>\n",
       "      <td>0.0</td>\n",
       "      <td>0.0</td>\n",
       "      <td>0.0</td>\n",
       "      <td>0.0</td>\n",
       "      <td>0.0</td>\n",
       "      <td>0.0</td>\n",
       "      <td>1.0</td>\n",
       "    </tr>\n",
       "    <tr>\n",
       "      <th>1</th>\n",
       "      <td>0.0</td>\n",
       "      <td>1.0</td>\n",
       "      <td>0.0</td>\n",
       "      <td>0.0</td>\n",
       "      <td>0.0</td>\n",
       "      <td>0.0</td>\n",
       "      <td>0.0</td>\n",
       "      <td>0.0</td>\n",
       "      <td>0.0</td>\n",
       "      <td>1.0</td>\n",
       "      <td>...</td>\n",
       "      <td>0.0</td>\n",
       "      <td>0.0</td>\n",
       "      <td>0.0</td>\n",
       "      <td>0.0</td>\n",
       "      <td>0.0</td>\n",
       "      <td>0.0</td>\n",
       "      <td>0.0</td>\n",
       "      <td>0.0</td>\n",
       "      <td>0.0</td>\n",
       "      <td>1.0</td>\n",
       "    </tr>\n",
       "    <tr>\n",
       "      <th>2</th>\n",
       "      <td>1.0</td>\n",
       "      <td>0.0</td>\n",
       "      <td>0.0</td>\n",
       "      <td>0.0</td>\n",
       "      <td>0.0</td>\n",
       "      <td>0.0</td>\n",
       "      <td>0.0</td>\n",
       "      <td>0.0</td>\n",
       "      <td>1.0</td>\n",
       "      <td>1.0</td>\n",
       "      <td>...</td>\n",
       "      <td>0.0</td>\n",
       "      <td>0.0</td>\n",
       "      <td>0.0</td>\n",
       "      <td>0.0</td>\n",
       "      <td>0.0</td>\n",
       "      <td>1.0</td>\n",
       "      <td>0.0</td>\n",
       "      <td>0.0</td>\n",
       "      <td>1.0</td>\n",
       "      <td>0.0</td>\n",
       "    </tr>\n",
       "    <tr>\n",
       "      <th>3</th>\n",
       "      <td>0.0</td>\n",
       "      <td>0.0</td>\n",
       "      <td>0.0</td>\n",
       "      <td>1.0</td>\n",
       "      <td>0.0</td>\n",
       "      <td>0.0</td>\n",
       "      <td>0.0</td>\n",
       "      <td>0.0</td>\n",
       "      <td>1.0</td>\n",
       "      <td>0.0</td>\n",
       "      <td>...</td>\n",
       "      <td>0.0</td>\n",
       "      <td>0.0</td>\n",
       "      <td>0.0</td>\n",
       "      <td>0.0</td>\n",
       "      <td>0.0</td>\n",
       "      <td>0.0</td>\n",
       "      <td>0.0</td>\n",
       "      <td>0.0</td>\n",
       "      <td>0.0</td>\n",
       "      <td>0.0</td>\n",
       "    </tr>\n",
       "    <tr>\n",
       "      <th>4</th>\n",
       "      <td>0.0</td>\n",
       "      <td>0.0</td>\n",
       "      <td>1.0</td>\n",
       "      <td>0.0</td>\n",
       "      <td>1.0</td>\n",
       "      <td>0.0</td>\n",
       "      <td>0.0</td>\n",
       "      <td>0.0</td>\n",
       "      <td>0.0</td>\n",
       "      <td>1.0</td>\n",
       "      <td>...</td>\n",
       "      <td>0.0</td>\n",
       "      <td>1.0</td>\n",
       "      <td>0.0</td>\n",
       "      <td>0.0</td>\n",
       "      <td>0.0</td>\n",
       "      <td>0.0</td>\n",
       "      <td>1.0</td>\n",
       "      <td>0.0</td>\n",
       "      <td>0.0</td>\n",
       "      <td>1.0</td>\n",
       "    </tr>\n",
       "  </tbody>\n",
       "</table>\n",
       "<p>5 rows × 22 columns</p>\n",
       "</div>"
      ],
      "text/plain": [
       "   California  Nevada  Oregon  Washington  Yes  College  High School or Below  \\\n",
       "0         0.0     0.0     0.0         1.0  0.0      0.0                   0.0   \n",
       "1         0.0     1.0     0.0         0.0  0.0      0.0                   0.0   \n",
       "2         1.0     0.0     0.0         0.0  0.0      0.0                   0.0   \n",
       "3         0.0     0.0     0.0         1.0  0.0      0.0                   0.0   \n",
       "4         0.0     0.0     1.0         0.0  1.0      0.0                   0.0   \n",
       "\n",
       "   High-level-degree    M  Married  ...  Special Auto  Offer2  Offer3  Offer4  \\\n",
       "0                0.0  0.0      1.0  ...           0.0     0.0     0.0     0.0   \n",
       "1                0.0  0.0      1.0  ...           0.0     0.0     0.0     0.0   \n",
       "2                0.0  1.0      1.0  ...           0.0     0.0     0.0     0.0   \n",
       "3                0.0  1.0      0.0  ...           0.0     0.0     0.0     0.0   \n",
       "4                0.0  0.0      1.0  ...           0.0     1.0     0.0     0.0   \n",
       "\n",
       "   Branch  Call Center  Web  Luxury-Sport  SUV  Two-Door Car  \n",
       "0     0.0          0.0  0.0           0.0  0.0           1.0  \n",
       "1     0.0          0.0  0.0           0.0  0.0           1.0  \n",
       "2     0.0          1.0  0.0           0.0  1.0           0.0  \n",
       "3     0.0          0.0  0.0           0.0  0.0           0.0  \n",
       "4     0.0          0.0  1.0           0.0  0.0           1.0  \n",
       "\n",
       "[5 rows x 22 columns]"
      ]
     },
     "execution_count": 78,
     "metadata": {},
     "output_type": "execute_result"
    }
   ],
   "source": [
    "from sklearn.preprocessing import OneHotEncoder\n",
    "encoder = OneHotEncoder().fit(categorical_OHE)\n",
    "#print(encoder.categories_)\n",
    "encoded = encoder.transform(categorical_OHE).toarray()\n",
    "#print(encoded)\n",
    "cols = [colname for row in encoder.categories_ for colname in row]\n",
    "#cols\n",
    "onehot_encoded = pd.DataFrame(encoded, columns=cols)\n",
    "cols_to_drop = [row[0] for row in encoder.categories_]\n",
    "cols_to_drop\n",
    "onehot_encoded = onehot_encoded.drop(cols_to_drop,axis=1)\n",
    "onehot_encoded.head()"
   ]
  },
  {
   "cell_type": "code",
   "execution_count": 79,
   "id": "1e378880",
   "metadata": {},
   "outputs": [],
   "source": [
    "categorical_map.reset_index(drop=True, inplace=True)\n",
    "onehot_encoded.reset_index(drop=True, inplace=True)"
   ]
  },
  {
   "cell_type": "code",
   "execution_count": 80,
   "id": "dcd928bd",
   "metadata": {},
   "outputs": [
    {
     "data": {
      "text/html": [
       "<div>\n",
       "<style scoped>\n",
       "    .dataframe tbody tr th:only-of-type {\n",
       "        vertical-align: middle;\n",
       "    }\n",
       "\n",
       "    .dataframe tbody tr th {\n",
       "        vertical-align: top;\n",
       "    }\n",
       "\n",
       "    .dataframe thead th {\n",
       "        text-align: right;\n",
       "    }\n",
       "</style>\n",
       "<table border=\"1\" class=\"dataframe\">\n",
       "  <thead>\n",
       "    <tr style=\"text-align: right;\">\n",
       "      <th></th>\n",
       "      <th>coverage</th>\n",
       "      <th>employment_status</th>\n",
       "      <th>location_code</th>\n",
       "      <th>vehicle_size</th>\n",
       "      <th>California</th>\n",
       "      <th>Nevada</th>\n",
       "      <th>Oregon</th>\n",
       "      <th>Washington</th>\n",
       "      <th>Yes</th>\n",
       "      <th>College</th>\n",
       "      <th>...</th>\n",
       "      <th>Special Auto</th>\n",
       "      <th>Offer2</th>\n",
       "      <th>Offer3</th>\n",
       "      <th>Offer4</th>\n",
       "      <th>Branch</th>\n",
       "      <th>Call Center</th>\n",
       "      <th>Web</th>\n",
       "      <th>Luxury-Sport</th>\n",
       "      <th>SUV</th>\n",
       "      <th>Two-Door Car</th>\n",
       "    </tr>\n",
       "  </thead>\n",
       "  <tbody>\n",
       "    <tr>\n",
       "      <th>0</th>\n",
       "      <td>0</td>\n",
       "      <td>1</td>\n",
       "      <td>1</td>\n",
       "      <td>1</td>\n",
       "      <td>0.0</td>\n",
       "      <td>0.0</td>\n",
       "      <td>0.0</td>\n",
       "      <td>1.0</td>\n",
       "      <td>0.0</td>\n",
       "      <td>0.0</td>\n",
       "      <td>...</td>\n",
       "      <td>0.0</td>\n",
       "      <td>0.0</td>\n",
       "      <td>0.0</td>\n",
       "      <td>0.0</td>\n",
       "      <td>0.0</td>\n",
       "      <td>0.0</td>\n",
       "      <td>0.0</td>\n",
       "      <td>0.0</td>\n",
       "      <td>0.0</td>\n",
       "      <td>1.0</td>\n",
       "    </tr>\n",
       "    <tr>\n",
       "      <th>1</th>\n",
       "      <td>2</td>\n",
       "      <td>1</td>\n",
       "      <td>1</td>\n",
       "      <td>1</td>\n",
       "      <td>0.0</td>\n",
       "      <td>1.0</td>\n",
       "      <td>0.0</td>\n",
       "      <td>0.0</td>\n",
       "      <td>0.0</td>\n",
       "      <td>0.0</td>\n",
       "      <td>...</td>\n",
       "      <td>0.0</td>\n",
       "      <td>0.0</td>\n",
       "      <td>0.0</td>\n",
       "      <td>0.0</td>\n",
       "      <td>0.0</td>\n",
       "      <td>0.0</td>\n",
       "      <td>0.0</td>\n",
       "      <td>0.0</td>\n",
       "      <td>0.0</td>\n",
       "      <td>1.0</td>\n",
       "    </tr>\n",
       "    <tr>\n",
       "      <th>2</th>\n",
       "      <td>0</td>\n",
       "      <td>0</td>\n",
       "      <td>1</td>\n",
       "      <td>1</td>\n",
       "      <td>1.0</td>\n",
       "      <td>0.0</td>\n",
       "      <td>0.0</td>\n",
       "      <td>0.0</td>\n",
       "      <td>0.0</td>\n",
       "      <td>0.0</td>\n",
       "      <td>...</td>\n",
       "      <td>0.0</td>\n",
       "      <td>0.0</td>\n",
       "      <td>0.0</td>\n",
       "      <td>0.0</td>\n",
       "      <td>0.0</td>\n",
       "      <td>1.0</td>\n",
       "      <td>0.0</td>\n",
       "      <td>0.0</td>\n",
       "      <td>1.0</td>\n",
       "      <td>0.0</td>\n",
       "    </tr>\n",
       "    <tr>\n",
       "      <th>3</th>\n",
       "      <td>0</td>\n",
       "      <td>1</td>\n",
       "      <td>0</td>\n",
       "      <td>1</td>\n",
       "      <td>0.0</td>\n",
       "      <td>0.0</td>\n",
       "      <td>0.0</td>\n",
       "      <td>1.0</td>\n",
       "      <td>0.0</td>\n",
       "      <td>0.0</td>\n",
       "      <td>...</td>\n",
       "      <td>0.0</td>\n",
       "      <td>0.0</td>\n",
       "      <td>0.0</td>\n",
       "      <td>0.0</td>\n",
       "      <td>0.0</td>\n",
       "      <td>0.0</td>\n",
       "      <td>0.0</td>\n",
       "      <td>0.0</td>\n",
       "      <td>0.0</td>\n",
       "      <td>0.0</td>\n",
       "    </tr>\n",
       "    <tr>\n",
       "      <th>4</th>\n",
       "      <td>0</td>\n",
       "      <td>1</td>\n",
       "      <td>0</td>\n",
       "      <td>1</td>\n",
       "      <td>0.0</td>\n",
       "      <td>0.0</td>\n",
       "      <td>1.0</td>\n",
       "      <td>0.0</td>\n",
       "      <td>1.0</td>\n",
       "      <td>0.0</td>\n",
       "      <td>...</td>\n",
       "      <td>0.0</td>\n",
       "      <td>1.0</td>\n",
       "      <td>0.0</td>\n",
       "      <td>0.0</td>\n",
       "      <td>0.0</td>\n",
       "      <td>0.0</td>\n",
       "      <td>1.0</td>\n",
       "      <td>0.0</td>\n",
       "      <td>0.0</td>\n",
       "      <td>1.0</td>\n",
       "    </tr>\n",
       "    <tr>\n",
       "      <th>...</th>\n",
       "      <td>...</td>\n",
       "      <td>...</td>\n",
       "      <td>...</td>\n",
       "      <td>...</td>\n",
       "      <td>...</td>\n",
       "      <td>...</td>\n",
       "      <td>...</td>\n",
       "      <td>...</td>\n",
       "      <td>...</td>\n",
       "      <td>...</td>\n",
       "      <td>...</td>\n",
       "      <td>...</td>\n",
       "      <td>...</td>\n",
       "      <td>...</td>\n",
       "      <td>...</td>\n",
       "      <td>...</td>\n",
       "      <td>...</td>\n",
       "      <td>...</td>\n",
       "      <td>...</td>\n",
       "      <td>...</td>\n",
       "      <td>...</td>\n",
       "    </tr>\n",
       "    <tr>\n",
       "      <th>7842</th>\n",
       "      <td>2</td>\n",
       "      <td>1</td>\n",
       "      <td>1</td>\n",
       "      <td>2</td>\n",
       "      <td>1.0</td>\n",
       "      <td>0.0</td>\n",
       "      <td>0.0</td>\n",
       "      <td>0.0</td>\n",
       "      <td>0.0</td>\n",
       "      <td>1.0</td>\n",
       "      <td>...</td>\n",
       "      <td>0.0</td>\n",
       "      <td>0.0</td>\n",
       "      <td>0.0</td>\n",
       "      <td>0.0</td>\n",
       "      <td>1.0</td>\n",
       "      <td>0.0</td>\n",
       "      <td>0.0</td>\n",
       "      <td>0.0</td>\n",
       "      <td>0.0</td>\n",
       "      <td>0.0</td>\n",
       "    </tr>\n",
       "    <tr>\n",
       "      <th>7843</th>\n",
       "      <td>1</td>\n",
       "      <td>1</td>\n",
       "      <td>1</td>\n",
       "      <td>1</td>\n",
       "      <td>1.0</td>\n",
       "      <td>0.0</td>\n",
       "      <td>0.0</td>\n",
       "      <td>0.0</td>\n",
       "      <td>1.0</td>\n",
       "      <td>1.0</td>\n",
       "      <td>...</td>\n",
       "      <td>0.0</td>\n",
       "      <td>0.0</td>\n",
       "      <td>0.0</td>\n",
       "      <td>0.0</td>\n",
       "      <td>1.0</td>\n",
       "      <td>0.0</td>\n",
       "      <td>0.0</td>\n",
       "      <td>0.0</td>\n",
       "      <td>0.0</td>\n",
       "      <td>0.0</td>\n",
       "    </tr>\n",
       "    <tr>\n",
       "      <th>7844</th>\n",
       "      <td>1</td>\n",
       "      <td>0</td>\n",
       "      <td>1</td>\n",
       "      <td>1</td>\n",
       "      <td>1.0</td>\n",
       "      <td>0.0</td>\n",
       "      <td>0.0</td>\n",
       "      <td>0.0</td>\n",
       "      <td>0.0</td>\n",
       "      <td>0.0</td>\n",
       "      <td>...</td>\n",
       "      <td>0.0</td>\n",
       "      <td>0.0</td>\n",
       "      <td>0.0</td>\n",
       "      <td>0.0</td>\n",
       "      <td>1.0</td>\n",
       "      <td>0.0</td>\n",
       "      <td>0.0</td>\n",
       "      <td>0.0</td>\n",
       "      <td>0.0</td>\n",
       "      <td>0.0</td>\n",
       "    </tr>\n",
       "    <tr>\n",
       "      <th>7845</th>\n",
       "      <td>1</td>\n",
       "      <td>1</td>\n",
       "      <td>1</td>\n",
       "      <td>2</td>\n",
       "      <td>1.0</td>\n",
       "      <td>0.0</td>\n",
       "      <td>0.0</td>\n",
       "      <td>0.0</td>\n",
       "      <td>0.0</td>\n",
       "      <td>1.0</td>\n",
       "      <td>...</td>\n",
       "      <td>0.0</td>\n",
       "      <td>0.0</td>\n",
       "      <td>1.0</td>\n",
       "      <td>0.0</td>\n",
       "      <td>1.0</td>\n",
       "      <td>0.0</td>\n",
       "      <td>0.0</td>\n",
       "      <td>0.0</td>\n",
       "      <td>0.0</td>\n",
       "      <td>0.0</td>\n",
       "    </tr>\n",
       "    <tr>\n",
       "      <th>7846</th>\n",
       "      <td>1</td>\n",
       "      <td>0</td>\n",
       "      <td>1</td>\n",
       "      <td>1</td>\n",
       "      <td>1.0</td>\n",
       "      <td>0.0</td>\n",
       "      <td>0.0</td>\n",
       "      <td>0.0</td>\n",
       "      <td>0.0</td>\n",
       "      <td>1.0</td>\n",
       "      <td>...</td>\n",
       "      <td>0.0</td>\n",
       "      <td>0.0</td>\n",
       "      <td>0.0</td>\n",
       "      <td>1.0</td>\n",
       "      <td>0.0</td>\n",
       "      <td>1.0</td>\n",
       "      <td>0.0</td>\n",
       "      <td>0.0</td>\n",
       "      <td>0.0</td>\n",
       "      <td>1.0</td>\n",
       "    </tr>\n",
       "  </tbody>\n",
       "</table>\n",
       "<p>7847 rows × 26 columns</p>\n",
       "</div>"
      ],
      "text/plain": [
       "      coverage  employment_status  location_code  vehicle_size  California  \\\n",
       "0            0                  1              1             1         0.0   \n",
       "1            2                  1              1             1         0.0   \n",
       "2            0                  0              1             1         1.0   \n",
       "3            0                  1              0             1         0.0   \n",
       "4            0                  1              0             1         0.0   \n",
       "...        ...                ...            ...           ...         ...   \n",
       "7842         2                  1              1             2         1.0   \n",
       "7843         1                  1              1             1         1.0   \n",
       "7844         1                  0              1             1         1.0   \n",
       "7845         1                  1              1             2         1.0   \n",
       "7846         1                  0              1             1         1.0   \n",
       "\n",
       "      Nevada  Oregon  Washington  Yes  College  ...  Special Auto  Offer2  \\\n",
       "0        0.0     0.0         1.0  0.0      0.0  ...           0.0     0.0   \n",
       "1        1.0     0.0         0.0  0.0      0.0  ...           0.0     0.0   \n",
       "2        0.0     0.0         0.0  0.0      0.0  ...           0.0     0.0   \n",
       "3        0.0     0.0         1.0  0.0      0.0  ...           0.0     0.0   \n",
       "4        0.0     1.0         0.0  1.0      0.0  ...           0.0     1.0   \n",
       "...      ...     ...         ...  ...      ...  ...           ...     ...   \n",
       "7842     0.0     0.0         0.0  0.0      1.0  ...           0.0     0.0   \n",
       "7843     0.0     0.0         0.0  1.0      1.0  ...           0.0     0.0   \n",
       "7844     0.0     0.0         0.0  0.0      0.0  ...           0.0     0.0   \n",
       "7845     0.0     0.0         0.0  0.0      1.0  ...           0.0     0.0   \n",
       "7846     0.0     0.0         0.0  0.0      1.0  ...           0.0     0.0   \n",
       "\n",
       "      Offer3  Offer4  Branch  Call Center  Web  Luxury-Sport  SUV  \\\n",
       "0        0.0     0.0     0.0          0.0  0.0           0.0  0.0   \n",
       "1        0.0     0.0     0.0          0.0  0.0           0.0  0.0   \n",
       "2        0.0     0.0     0.0          1.0  0.0           0.0  1.0   \n",
       "3        0.0     0.0     0.0          0.0  0.0           0.0  0.0   \n",
       "4        0.0     0.0     0.0          0.0  1.0           0.0  0.0   \n",
       "...      ...     ...     ...          ...  ...           ...  ...   \n",
       "7842     0.0     0.0     1.0          0.0  0.0           0.0  0.0   \n",
       "7843     0.0     0.0     1.0          0.0  0.0           0.0  0.0   \n",
       "7844     0.0     0.0     1.0          0.0  0.0           0.0  0.0   \n",
       "7845     1.0     0.0     1.0          0.0  0.0           0.0  0.0   \n",
       "7846     0.0     1.0     0.0          1.0  0.0           0.0  0.0   \n",
       "\n",
       "      Two-Door Car  \n",
       "0              1.0  \n",
       "1              1.0  \n",
       "2              0.0  \n",
       "3              0.0  \n",
       "4              1.0  \n",
       "...            ...  \n",
       "7842           0.0  \n",
       "7843           0.0  \n",
       "7844           0.0  \n",
       "7845           0.0  \n",
       "7846           1.0  \n",
       "\n",
       "[7847 rows x 26 columns]"
      ]
     },
     "execution_count": 80,
     "metadata": {},
     "output_type": "execute_result"
    }
   ],
   "source": [
    "categorical = pd.concat([categorical_map, onehot_encoded], axis = 1)\n",
    "categorical"
   ]
  },
  {
   "cell_type": "markdown",
   "id": "62075619",
   "metadata": {},
   "source": [
    "## 6. The time variable can be useful. Try to transform its data into a useful one. Hint: Day week and month as integers might be useful.\n",
    "I've done it already."
   ]
  },
  {
   "cell_type": "markdown",
   "id": "2c47384a",
   "metadata": {},
   "source": [
    "### 7. Since the model will only accept numerical data, check and make sure that every column is numerical, if some are not, change it using encoding."
   ]
  },
  {
   "cell_type": "code",
   "execution_count": 82,
   "id": "856b4842",
   "metadata": {},
   "outputs": [
    {
     "data": {
      "text/html": [
       "<div>\n",
       "<style scoped>\n",
       "    .dataframe tbody tr th:only-of-type {\n",
       "        vertical-align: middle;\n",
       "    }\n",
       "\n",
       "    .dataframe tbody tr th {\n",
       "        vertical-align: top;\n",
       "    }\n",
       "\n",
       "    .dataframe thead th {\n",
       "        text-align: right;\n",
       "    }\n",
       "</style>\n",
       "<table border=\"1\" class=\"dataframe\">\n",
       "  <thead>\n",
       "    <tr style=\"text-align: right;\">\n",
       "      <th></th>\n",
       "      <th>0</th>\n",
       "      <th>1</th>\n",
       "      <th>2</th>\n",
       "      <th>3</th>\n",
       "      <th>0</th>\n",
       "      <th>1</th>\n",
       "      <th>2</th>\n",
       "      <th>3</th>\n",
       "      <th>4</th>\n",
       "      <th>5</th>\n",
       "      <th>...</th>\n",
       "      <th>Special Auto</th>\n",
       "      <th>Offer2</th>\n",
       "      <th>Offer3</th>\n",
       "      <th>Offer4</th>\n",
       "      <th>Branch</th>\n",
       "      <th>Call Center</th>\n",
       "      <th>Web</th>\n",
       "      <th>Luxury-Sport</th>\n",
       "      <th>SUV</th>\n",
       "      <th>Two-Door Car</th>\n",
       "    </tr>\n",
       "  </thead>\n",
       "  <tbody>\n",
       "    <tr>\n",
       "      <th>0</th>\n",
       "      <td>0.059651</td>\n",
       "      <td>0.562847</td>\n",
       "      <td>0.073394</td>\n",
       "      <td>0.050505</td>\n",
       "      <td>0.914286</td>\n",
       "      <td>0.0</td>\n",
       "      <td>0.000</td>\n",
       "      <td>0.0</td>\n",
       "      <td>1.0</td>\n",
       "      <td>0.766667</td>\n",
       "      <td>...</td>\n",
       "      <td>0.0</td>\n",
       "      <td>0.0</td>\n",
       "      <td>0.0</td>\n",
       "      <td>0.0</td>\n",
       "      <td>0.0</td>\n",
       "      <td>0.0</td>\n",
       "      <td>0.0</td>\n",
       "      <td>0.0</td>\n",
       "      <td>0.0</td>\n",
       "      <td>1.0</td>\n",
       "    </tr>\n",
       "    <tr>\n",
       "      <th>1</th>\n",
       "      <td>0.757387</td>\n",
       "      <td>0.487763</td>\n",
       "      <td>0.431193</td>\n",
       "      <td>0.383838</td>\n",
       "      <td>0.514286</td>\n",
       "      <td>0.0</td>\n",
       "      <td>0.125</td>\n",
       "      <td>0.0</td>\n",
       "      <td>1.0</td>\n",
       "      <td>0.600000</td>\n",
       "      <td>...</td>\n",
       "      <td>0.0</td>\n",
       "      <td>0.0</td>\n",
       "      <td>0.0</td>\n",
       "      <td>0.0</td>\n",
       "      <td>0.0</td>\n",
       "      <td>0.0</td>\n",
       "      <td>0.0</td>\n",
       "      <td>0.0</td>\n",
       "      <td>0.0</td>\n",
       "      <td>1.0</td>\n",
       "    </tr>\n",
       "    <tr>\n",
       "      <th>2</th>\n",
       "      <td>0.396140</td>\n",
       "      <td>0.000000</td>\n",
       "      <td>0.412844</td>\n",
       "      <td>0.656566</td>\n",
       "      <td>0.514286</td>\n",
       "      <td>0.0</td>\n",
       "      <td>0.750</td>\n",
       "      <td>0.0</td>\n",
       "      <td>0.0</td>\n",
       "      <td>0.633333</td>\n",
       "      <td>...</td>\n",
       "      <td>0.0</td>\n",
       "      <td>0.0</td>\n",
       "      <td>0.0</td>\n",
       "      <td>0.0</td>\n",
       "      <td>0.0</td>\n",
       "      <td>1.0</td>\n",
       "      <td>0.0</td>\n",
       "      <td>0.0</td>\n",
       "      <td>1.0</td>\n",
       "      <td>0.0</td>\n",
       "    </tr>\n",
       "    <tr>\n",
       "      <th>3</th>\n",
       "      <td>0.063109</td>\n",
       "      <td>0.438443</td>\n",
       "      <td>0.110092</td>\n",
       "      <td>0.444444</td>\n",
       "      <td>0.342857</td>\n",
       "      <td>0.0</td>\n",
       "      <td>0.000</td>\n",
       "      <td>0.0</td>\n",
       "      <td>1.0</td>\n",
       "      <td>0.066667</td>\n",
       "      <td>...</td>\n",
       "      <td>0.0</td>\n",
       "      <td>0.0</td>\n",
       "      <td>0.0</td>\n",
       "      <td>0.0</td>\n",
       "      <td>0.0</td>\n",
       "      <td>0.0</td>\n",
       "      <td>0.0</td>\n",
       "      <td>0.0</td>\n",
       "      <td>0.0</td>\n",
       "      <td>0.0</td>\n",
       "    </tr>\n",
       "    <tr>\n",
       "      <th>4</th>\n",
       "      <td>0.438211</td>\n",
       "      <td>0.629140</td>\n",
       "      <td>0.073394</td>\n",
       "      <td>0.949495</td>\n",
       "      <td>0.400000</td>\n",
       "      <td>0.0</td>\n",
       "      <td>0.125</td>\n",
       "      <td>0.0</td>\n",
       "      <td>0.0</td>\n",
       "      <td>0.800000</td>\n",
       "      <td>...</td>\n",
       "      <td>0.0</td>\n",
       "      <td>1.0</td>\n",
       "      <td>0.0</td>\n",
       "      <td>0.0</td>\n",
       "      <td>0.0</td>\n",
       "      <td>0.0</td>\n",
       "      <td>1.0</td>\n",
       "      <td>0.0</td>\n",
       "      <td>0.0</td>\n",
       "      <td>1.0</td>\n",
       "    </tr>\n",
       "    <tr>\n",
       "      <th>...</th>\n",
       "      <td>...</td>\n",
       "      <td>...</td>\n",
       "      <td>...</td>\n",
       "      <td>...</td>\n",
       "      <td>...</td>\n",
       "      <td>...</td>\n",
       "      <td>...</td>\n",
       "      <td>...</td>\n",
       "      <td>...</td>\n",
       "      <td>...</td>\n",
       "      <td>...</td>\n",
       "      <td>...</td>\n",
       "      <td>...</td>\n",
       "      <td>...</td>\n",
       "      <td>...</td>\n",
       "      <td>...</td>\n",
       "      <td>...</td>\n",
       "      <td>...</td>\n",
       "      <td>...</td>\n",
       "      <td>...</td>\n",
       "      <td>...</td>\n",
       "    </tr>\n",
       "    <tr>\n",
       "      <th>7842</th>\n",
       "      <td>0.151788</td>\n",
       "      <td>0.477701</td>\n",
       "      <td>0.394495</td>\n",
       "      <td>0.585859</td>\n",
       "      <td>0.457143</td>\n",
       "      <td>0.0</td>\n",
       "      <td>0.000</td>\n",
       "      <td>0.0</td>\n",
       "      <td>0.0</td>\n",
       "      <td>0.166667</td>\n",
       "      <td>...</td>\n",
       "      <td>0.0</td>\n",
       "      <td>0.0</td>\n",
       "      <td>0.0</td>\n",
       "      <td>0.0</td>\n",
       "      <td>1.0</td>\n",
       "      <td>0.0</td>\n",
       "      <td>0.0</td>\n",
       "      <td>0.0</td>\n",
       "      <td>0.0</td>\n",
       "      <td>0.0</td>\n",
       "    </tr>\n",
       "    <tr>\n",
       "      <th>7843</th>\n",
       "      <td>0.082600</td>\n",
       "      <td>0.216081</td>\n",
       "      <td>0.165138</td>\n",
       "      <td>0.282828</td>\n",
       "      <td>0.400000</td>\n",
       "      <td>0.0</td>\n",
       "      <td>0.000</td>\n",
       "      <td>0.0</td>\n",
       "      <td>1.0</td>\n",
       "      <td>0.366667</td>\n",
       "      <td>...</td>\n",
       "      <td>0.0</td>\n",
       "      <td>0.0</td>\n",
       "      <td>0.0</td>\n",
       "      <td>0.0</td>\n",
       "      <td>1.0</td>\n",
       "      <td>0.0</td>\n",
       "      <td>0.0</td>\n",
       "      <td>0.0</td>\n",
       "      <td>0.0</td>\n",
       "      <td>0.0</td>\n",
       "    </tr>\n",
       "    <tr>\n",
       "      <th>7844</th>\n",
       "      <td>0.431842</td>\n",
       "      <td>0.000000</td>\n",
       "      <td>0.220183</td>\n",
       "      <td>0.373737</td>\n",
       "      <td>0.257143</td>\n",
       "      <td>0.6</td>\n",
       "      <td>0.125</td>\n",
       "      <td>0.0</td>\n",
       "      <td>1.0</td>\n",
       "      <td>0.166667</td>\n",
       "      <td>...</td>\n",
       "      <td>0.0</td>\n",
       "      <td>0.0</td>\n",
       "      <td>0.0</td>\n",
       "      <td>0.0</td>\n",
       "      <td>1.0</td>\n",
       "      <td>0.0</td>\n",
       "      <td>0.0</td>\n",
       "      <td>0.0</td>\n",
       "      <td>0.0</td>\n",
       "      <td>0.0</td>\n",
       "    </tr>\n",
       "    <tr>\n",
       "      <th>7845</th>\n",
       "      <td>0.387772</td>\n",
       "      <td>0.219452</td>\n",
       "      <td>0.321101</td>\n",
       "      <td>0.030303</td>\n",
       "      <td>0.971429</td>\n",
       "      <td>0.0</td>\n",
       "      <td>0.250</td>\n",
       "      <td>0.0</td>\n",
       "      <td>1.0</td>\n",
       "      <td>0.066667</td>\n",
       "      <td>...</td>\n",
       "      <td>0.0</td>\n",
       "      <td>0.0</td>\n",
       "      <td>1.0</td>\n",
       "      <td>0.0</td>\n",
       "      <td>1.0</td>\n",
       "      <td>0.0</td>\n",
       "      <td>0.0</td>\n",
       "      <td>0.0</td>\n",
       "      <td>0.0</td>\n",
       "      <td>0.0</td>\n",
       "    </tr>\n",
       "    <tr>\n",
       "      <th>7846</th>\n",
       "      <td>0.049197</td>\n",
       "      <td>0.000000</td>\n",
       "      <td>0.146789</td>\n",
       "      <td>0.909091</td>\n",
       "      <td>0.085714</td>\n",
       "      <td>0.0</td>\n",
       "      <td>0.000</td>\n",
       "      <td>0.0</td>\n",
       "      <td>1.0</td>\n",
       "      <td>0.433333</td>\n",
       "      <td>...</td>\n",
       "      <td>0.0</td>\n",
       "      <td>0.0</td>\n",
       "      <td>0.0</td>\n",
       "      <td>1.0</td>\n",
       "      <td>0.0</td>\n",
       "      <td>1.0</td>\n",
       "      <td>0.0</td>\n",
       "      <td>0.0</td>\n",
       "      <td>0.0</td>\n",
       "      <td>1.0</td>\n",
       "    </tr>\n",
       "  </tbody>\n",
       "</table>\n",
       "<p>7847 rows × 36 columns</p>\n",
       "</div>"
      ],
      "text/plain": [
       "             0         1         2         3         0    1      2    3    4  \\\n",
       "0     0.059651  0.562847  0.073394  0.050505  0.914286  0.0  0.000  0.0  1.0   \n",
       "1     0.757387  0.487763  0.431193  0.383838  0.514286  0.0  0.125  0.0  1.0   \n",
       "2     0.396140  0.000000  0.412844  0.656566  0.514286  0.0  0.750  0.0  0.0   \n",
       "3     0.063109  0.438443  0.110092  0.444444  0.342857  0.0  0.000  0.0  1.0   \n",
       "4     0.438211  0.629140  0.073394  0.949495  0.400000  0.0  0.125  0.0  0.0   \n",
       "...        ...       ...       ...       ...       ...  ...    ...  ...  ...   \n",
       "7842  0.151788  0.477701  0.394495  0.585859  0.457143  0.0  0.000  0.0  0.0   \n",
       "7843  0.082600  0.216081  0.165138  0.282828  0.400000  0.0  0.000  0.0  1.0   \n",
       "7844  0.431842  0.000000  0.220183  0.373737  0.257143  0.6  0.125  0.0  1.0   \n",
       "7845  0.387772  0.219452  0.321101  0.030303  0.971429  0.0  0.250  0.0  1.0   \n",
       "7846  0.049197  0.000000  0.146789  0.909091  0.085714  0.0  0.000  0.0  1.0   \n",
       "\n",
       "             5  ...  Special Auto  Offer2  Offer3  Offer4  Branch  \\\n",
       "0     0.766667  ...           0.0     0.0     0.0     0.0     0.0   \n",
       "1     0.600000  ...           0.0     0.0     0.0     0.0     0.0   \n",
       "2     0.633333  ...           0.0     0.0     0.0     0.0     0.0   \n",
       "3     0.066667  ...           0.0     0.0     0.0     0.0     0.0   \n",
       "4     0.800000  ...           0.0     1.0     0.0     0.0     0.0   \n",
       "...        ...  ...           ...     ...     ...     ...     ...   \n",
       "7842  0.166667  ...           0.0     0.0     0.0     0.0     1.0   \n",
       "7843  0.366667  ...           0.0     0.0     0.0     0.0     1.0   \n",
       "7844  0.166667  ...           0.0     0.0     0.0     0.0     1.0   \n",
       "7845  0.066667  ...           0.0     0.0     1.0     0.0     1.0   \n",
       "7846  0.433333  ...           0.0     0.0     0.0     1.0     0.0   \n",
       "\n",
       "      Call Center  Web  Luxury-Sport  SUV  Two-Door Car  \n",
       "0             0.0  0.0           0.0  0.0           1.0  \n",
       "1             0.0  0.0           0.0  0.0           1.0  \n",
       "2             1.0  0.0           0.0  1.0           0.0  \n",
       "3             0.0  0.0           0.0  0.0           0.0  \n",
       "4             0.0  1.0           0.0  0.0           1.0  \n",
       "...           ...  ...           ...  ...           ...  \n",
       "7842          0.0  0.0           0.0  0.0           0.0  \n",
       "7843          0.0  0.0           0.0  0.0           0.0  \n",
       "7844          0.0  0.0           0.0  0.0           0.0  \n",
       "7845          0.0  0.0           0.0  0.0           0.0  \n",
       "7846          1.0  0.0           0.0  0.0           1.0  \n",
       "\n",
       "[7847 rows x 36 columns]"
      ]
     },
     "execution_count": 82,
     "metadata": {},
     "output_type": "execute_result"
    }
   ],
   "source": [
    "numeric.reset_index(drop=True, inplace=True)\n",
    "categorical.reset_index(drop=True, inplace=True)\n",
    "X_data = pd.concat([numeric, categorical], axis = 1)\n",
    "X_data"
   ]
  },
  {
   "cell_type": "markdown",
   "id": "f5d025c5",
   "metadata": {},
   "source": [
    "### 8. Try a simple linear regression with all the data to see whether we are getting good results.\n"
   ]
  },
  {
   "cell_type": "code",
   "execution_count": 83,
   "id": "e7a40d41",
   "metadata": {},
   "outputs": [],
   "source": [
    "\n",
    "from sklearn.model_selection import train_test_split\n",
    "\n",
    "X_train, X_test, y_train, y_test = train_test_split(X_data, y, test_size=0.4, random_state=100)"
   ]
  },
  {
   "cell_type": "code",
   "execution_count": 84,
   "id": "05bd3de0",
   "metadata": {},
   "outputs": [
    {
     "data": {
      "text/plain": [
       "LinearRegression()"
      ]
     },
     "execution_count": 84,
     "metadata": {},
     "output_type": "execute_result"
    }
   ],
   "source": [
    "from sklearn import linear_model\n",
    "\n",
    "lm = linear_model.LinearRegression()\n",
    "lm.fit(X_train,y_train)"
   ]
  },
  {
   "cell_type": "code",
   "execution_count": 85,
   "id": "4dbc740e",
   "metadata": {},
   "outputs": [
    {
     "name": "stdout",
     "output_type": "stream",
     "text": [
      "test R2: 0.5207949935727485\n"
     ]
    }
   ],
   "source": [
    "from sklearn.metrics import r2_score\n",
    "predictions2 = lm.predict(X_test)\n",
    "\n",
    "r2_test = r2_score(y_test, predictions2)\n",
    "print('test R2:', r2_test)"
   ]
  },
  {
   "cell_type": "markdown",
   "id": "d2c84d73",
   "metadata": {},
   "source": [
    "# 9. 10. 11.\n",
    "Now define a function that takes a list of models and train (and tests) them so we can try a lot of them without repeating code.\n",
    "Use the function to check LinearRegressor and KNeighborsRegressor.\n",
    "You can check also the MLPRegressor for this task! https://scikit-learn.org/stable/modules/generated/sklearn.neural_network.MLPRegressor.html"
   ]
  },
  {
   "cell_type": "code",
   "execution_count": 86,
   "id": "7e07de32",
   "metadata": {},
   "outputs": [],
   "source": [
    "def model(X, y):\n",
    "    \n",
    "    from sklearn.model_selection import train_test_split\n",
    "    from sklearn.linear_model import LinearRegression\n",
    "    from sklearn.metrics import r2_score\n",
    "    from sklearn.neighbors import KNeighborsRegressor\n",
    "    from sklearn.neural_network import MLPRegressor\n",
    "    \n",
    "    models = { 'LinearRegression': LinearRegression(), 'KNeighborsRegressor': KNeighborsRegressor(n_neighbors = 5), 'MLPRegressor': MLPRegressor(random_state=1, max_iter=500)}\n",
    "    \n",
    "    X_train, X_test, y_train, y_test = train_test_split(X, y, test_size=0.4, random_state=100)\n",
    "\n",
    "    for k,v in models.items(): #\"items()\" method of dict returns keys and values\n",
    "        v.fit(X_test, y_test)\n",
    "        print(k + ' test score:', v.score(X_test, y_test))\n",
    "        "
   ]
  },
  {
   "cell_type": "code",
   "execution_count": 87,
   "id": "d2a33fd8",
   "metadata": {},
   "outputs": [],
   "source": [
    "y_train = df_copy['total_claim_amount']\n",
    "X_train = X_data"
   ]
  },
  {
   "cell_type": "code",
   "execution_count": 88,
   "id": "c468c248",
   "metadata": {},
   "outputs": [
    {
     "name": "stdout",
     "output_type": "stream",
     "text": [
      "LinearRegression test score: 0.5306837120164123\n",
      "KNeighborsRegressor test score: 0.7446469297931324\n",
      "MLPRegressor test score: 0.8107880343068016\n"
     ]
    }
   ],
   "source": [
    "model(X_train, y_train)"
   ]
  },
  {
   "cell_type": "code",
   "execution_count": null,
   "id": "83a6b778",
   "metadata": {},
   "outputs": [],
   "source": []
  },
  {
   "cell_type": "code",
   "execution_count": null,
   "id": "d5f60b55",
   "metadata": {},
   "outputs": [],
   "source": []
  }
 ],
 "metadata": {
  "kernelspec": {
   "display_name": "Python 3 (ipykernel)",
   "language": "python",
   "name": "python3"
  },
  "language_info": {
   "codemirror_mode": {
    "name": "ipython",
    "version": 3
   },
   "file_extension": ".py",
   "mimetype": "text/x-python",
   "name": "python",
   "nbconvert_exporter": "python",
   "pygments_lexer": "ipython3",
   "version": "3.9.13"
  }
 },
 "nbformat": 4,
 "nbformat_minor": 5
}
